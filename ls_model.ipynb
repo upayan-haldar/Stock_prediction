{
 "cells": [
  {
   "cell_type": "code",
   "execution_count": 1,
   "id": "f53325c6",
   "metadata": {},
   "outputs": [],
   "source": [
    "import pandas_datareader as pd"
   ]
  },
  {
   "cell_type": "code",
   "execution_count": 2,
   "id": "3b9100cd",
   "metadata": {},
   "outputs": [],
   "source": [
    "import numpy as np\n",
    "import pandas as pd\n",
    "import matplotlib.pyplot as plt\n",
    "import tensorflow as tf"
   ]
  },
  {
   "cell_type": "code",
   "execution_count": 6,
   "id": "06e5fef2",
   "metadata": {
    "scrolled": true
   },
   "outputs": [
    {
     "name": "stdout",
     "output_type": "stream",
     "text": [
      "[*********************100%***********************]  1 of 1 completed\n"
     ]
    },
    {
     "data": {
      "text/html": [
       "<div>\n",
       "<style scoped>\n",
       "    .dataframe tbody tr th:only-of-type {\n",
       "        vertical-align: middle;\n",
       "    }\n",
       "\n",
       "    .dataframe tbody tr th {\n",
       "        vertical-align: top;\n",
       "    }\n",
       "\n",
       "    .dataframe thead th {\n",
       "        text-align: right;\n",
       "    }\n",
       "</style>\n",
       "<table border=\"1\" class=\"dataframe\">\n",
       "  <thead>\n",
       "    <tr style=\"text-align: right;\">\n",
       "      <th></th>\n",
       "      <th>Open</th>\n",
       "      <th>High</th>\n",
       "      <th>Low</th>\n",
       "      <th>Close</th>\n",
       "      <th>Adj Close</th>\n",
       "      <th>Volume</th>\n",
       "    </tr>\n",
       "    <tr>\n",
       "      <th>Date</th>\n",
       "      <th></th>\n",
       "      <th></th>\n",
       "      <th></th>\n",
       "      <th></th>\n",
       "      <th></th>\n",
       "      <th></th>\n",
       "    </tr>\n",
       "  </thead>\n",
       "  <tbody>\n",
       "    <tr>\n",
       "      <th>2001-10-01</th>\n",
       "      <td>1.070938</td>\n",
       "      <td>1.070938</td>\n",
       "      <td>0.990313</td>\n",
       "      <td>1.037500</td>\n",
       "      <td>0.695814</td>\n",
       "      <td>2073600</td>\n",
       "    </tr>\n",
       "    <tr>\n",
       "      <th>2001-10-02</th>\n",
       "      <td>1.015938</td>\n",
       "      <td>1.093750</td>\n",
       "      <td>1.008125</td>\n",
       "      <td>1.093750</td>\n",
       "      <td>0.733539</td>\n",
       "      <td>966400</td>\n",
       "    </tr>\n",
       "    <tr>\n",
       "      <th>2001-10-03</th>\n",
       "      <td>1.018750</td>\n",
       "      <td>1.120313</td>\n",
       "      <td>1.018750</td>\n",
       "      <td>1.071875</td>\n",
       "      <td>0.718869</td>\n",
       "      <td>8710400</td>\n",
       "    </tr>\n",
       "    <tr>\n",
       "      <th>2001-10-04</th>\n",
       "      <td>1.124688</td>\n",
       "      <td>1.175000</td>\n",
       "      <td>1.072188</td>\n",
       "      <td>1.140625</td>\n",
       "      <td>0.764977</td>\n",
       "      <td>5382400</td>\n",
       "    </tr>\n",
       "    <tr>\n",
       "      <th>2001-10-05</th>\n",
       "      <td>1.125000</td>\n",
       "      <td>1.218438</td>\n",
       "      <td>1.125000</td>\n",
       "      <td>1.169063</td>\n",
       "      <td>0.784049</td>\n",
       "      <td>3206400</td>\n",
       "    </tr>\n",
       "  </tbody>\n",
       "</table>\n",
       "</div>"
      ],
      "text/plain": [
       "                Open      High       Low     Close  Adj Close   Volume\n",
       "Date                                                                  \n",
       "2001-10-01  1.070938  1.070938  0.990313  1.037500   0.695814  2073600\n",
       "2001-10-02  1.015938  1.093750  1.008125  1.093750   0.733539   966400\n",
       "2001-10-03  1.018750  1.120313  1.018750  1.071875   0.718869  8710400\n",
       "2001-10-04  1.124688  1.175000  1.072188  1.140625   0.764977  5382400\n",
       "2001-10-05  1.125000  1.218438  1.125000  1.169063   0.784049  3206400"
      ]
     },
     "execution_count": 6,
     "metadata": {},
     "output_type": "execute_result"
    }
   ],
   "source": [
    "from pandas_datareader import data as pdr\n",
    "import yfinance as yfin\n",
    "\n",
    "\n",
    "yfin.pdr_override()\n",
    "\n",
    "df = pdr.get_data_yahoo('INFY', start='2001-10-01', end='2023-08-06')\n",
    "\n",
    "df.head()"
   ]
  },
  {
   "cell_type": "code",
   "execution_count": 7,
   "id": "54d1c753",
   "metadata": {},
   "outputs": [
    {
     "data": {
      "text/html": [
       "<div>\n",
       "<style scoped>\n",
       "    .dataframe tbody tr th:only-of-type {\n",
       "        vertical-align: middle;\n",
       "    }\n",
       "\n",
       "    .dataframe tbody tr th {\n",
       "        vertical-align: top;\n",
       "    }\n",
       "\n",
       "    .dataframe thead th {\n",
       "        text-align: right;\n",
       "    }\n",
       "</style>\n",
       "<table border=\"1\" class=\"dataframe\">\n",
       "  <thead>\n",
       "    <tr style=\"text-align: right;\">\n",
       "      <th></th>\n",
       "      <th>Open</th>\n",
       "      <th>High</th>\n",
       "      <th>Low</th>\n",
       "      <th>Close</th>\n",
       "      <th>Adj Close</th>\n",
       "      <th>Volume</th>\n",
       "    </tr>\n",
       "    <tr>\n",
       "      <th>Date</th>\n",
       "      <th></th>\n",
       "      <th></th>\n",
       "      <th></th>\n",
       "      <th></th>\n",
       "      <th></th>\n",
       "      <th></th>\n",
       "    </tr>\n",
       "  </thead>\n",
       "  <tbody>\n",
       "    <tr>\n",
       "      <th>2023-07-31</th>\n",
       "      <td>16.620001</td>\n",
       "      <td>16.750000</td>\n",
       "      <td>16.600000</td>\n",
       "      <td>16.660000</td>\n",
       "      <td>16.660000</td>\n",
       "      <td>6604000</td>\n",
       "    </tr>\n",
       "    <tr>\n",
       "      <th>2023-08-01</th>\n",
       "      <td>16.719999</td>\n",
       "      <td>16.840000</td>\n",
       "      <td>16.650000</td>\n",
       "      <td>16.799999</td>\n",
       "      <td>16.799999</td>\n",
       "      <td>7462200</td>\n",
       "    </tr>\n",
       "    <tr>\n",
       "      <th>2023-08-02</th>\n",
       "      <td>16.540001</td>\n",
       "      <td>16.600000</td>\n",
       "      <td>16.430000</td>\n",
       "      <td>16.520000</td>\n",
       "      <td>16.520000</td>\n",
       "      <td>11896400</td>\n",
       "    </tr>\n",
       "    <tr>\n",
       "      <th>2023-08-03</th>\n",
       "      <td>16.520000</td>\n",
       "      <td>16.559999</td>\n",
       "      <td>16.440001</td>\n",
       "      <td>16.510000</td>\n",
       "      <td>16.510000</td>\n",
       "      <td>10134400</td>\n",
       "    </tr>\n",
       "    <tr>\n",
       "      <th>2023-08-04</th>\n",
       "      <td>16.680000</td>\n",
       "      <td>16.879999</td>\n",
       "      <td>16.639999</td>\n",
       "      <td>16.709999</td>\n",
       "      <td>16.709999</td>\n",
       "      <td>7012200</td>\n",
       "    </tr>\n",
       "  </tbody>\n",
       "</table>\n",
       "</div>"
      ],
      "text/plain": [
       "                 Open       High        Low      Close  Adj Close    Volume\n",
       "Date                                                                       \n",
       "2023-07-31  16.620001  16.750000  16.600000  16.660000  16.660000   6604000\n",
       "2023-08-01  16.719999  16.840000  16.650000  16.799999  16.799999   7462200\n",
       "2023-08-02  16.540001  16.600000  16.430000  16.520000  16.520000  11896400\n",
       "2023-08-03  16.520000  16.559999  16.440001  16.510000  16.510000  10134400\n",
       "2023-08-04  16.680000  16.879999  16.639999  16.709999  16.709999   7012200"
      ]
     },
     "execution_count": 7,
     "metadata": {},
     "output_type": "execute_result"
    }
   ],
   "source": [
    "df.tail()"
   ]
  },
  {
   "cell_type": "code",
   "execution_count": 10,
   "id": "1a6f7cad",
   "metadata": {},
   "outputs": [
    {
     "data": {
      "text/html": [
       "<div>\n",
       "<style scoped>\n",
       "    .dataframe tbody tr th:only-of-type {\n",
       "        vertical-align: middle;\n",
       "    }\n",
       "\n",
       "    .dataframe tbody tr th {\n",
       "        vertical-align: top;\n",
       "    }\n",
       "\n",
       "    .dataframe thead th {\n",
       "        text-align: right;\n",
       "    }\n",
       "</style>\n",
       "<table border=\"1\" class=\"dataframe\">\n",
       "  <thead>\n",
       "    <tr style=\"text-align: right;\">\n",
       "      <th></th>\n",
       "      <th>index</th>\n",
       "      <th>Date</th>\n",
       "      <th>Open</th>\n",
       "      <th>High</th>\n",
       "      <th>Low</th>\n",
       "      <th>Close</th>\n",
       "      <th>Adj Close</th>\n",
       "      <th>Volume</th>\n",
       "    </tr>\n",
       "  </thead>\n",
       "  <tbody>\n",
       "    <tr>\n",
       "      <th>0</th>\n",
       "      <td>0</td>\n",
       "      <td>2001-10-01</td>\n",
       "      <td>1.070938</td>\n",
       "      <td>1.070938</td>\n",
       "      <td>0.990313</td>\n",
       "      <td>1.037500</td>\n",
       "      <td>0.695814</td>\n",
       "      <td>2073600</td>\n",
       "    </tr>\n",
       "    <tr>\n",
       "      <th>1</th>\n",
       "      <td>1</td>\n",
       "      <td>2001-10-02</td>\n",
       "      <td>1.015938</td>\n",
       "      <td>1.093750</td>\n",
       "      <td>1.008125</td>\n",
       "      <td>1.093750</td>\n",
       "      <td>0.733539</td>\n",
       "      <td>966400</td>\n",
       "    </tr>\n",
       "    <tr>\n",
       "      <th>2</th>\n",
       "      <td>2</td>\n",
       "      <td>2001-10-03</td>\n",
       "      <td>1.018750</td>\n",
       "      <td>1.120313</td>\n",
       "      <td>1.018750</td>\n",
       "      <td>1.071875</td>\n",
       "      <td>0.718869</td>\n",
       "      <td>8710400</td>\n",
       "    </tr>\n",
       "    <tr>\n",
       "      <th>3</th>\n",
       "      <td>3</td>\n",
       "      <td>2001-10-04</td>\n",
       "      <td>1.124688</td>\n",
       "      <td>1.175000</td>\n",
       "      <td>1.072188</td>\n",
       "      <td>1.140625</td>\n",
       "      <td>0.764977</td>\n",
       "      <td>5382400</td>\n",
       "    </tr>\n",
       "    <tr>\n",
       "      <th>4</th>\n",
       "      <td>4</td>\n",
       "      <td>2001-10-05</td>\n",
       "      <td>1.125000</td>\n",
       "      <td>1.218438</td>\n",
       "      <td>1.125000</td>\n",
       "      <td>1.169063</td>\n",
       "      <td>0.784049</td>\n",
       "      <td>3206400</td>\n",
       "    </tr>\n",
       "  </tbody>\n",
       "</table>\n",
       "</div>"
      ],
      "text/plain": [
       "   index       Date      Open      High       Low     Close  Adj Close  \\\n",
       "0      0 2001-10-01  1.070938  1.070938  0.990313  1.037500   0.695814   \n",
       "1      1 2001-10-02  1.015938  1.093750  1.008125  1.093750   0.733539   \n",
       "2      2 2001-10-03  1.018750  1.120313  1.018750  1.071875   0.718869   \n",
       "3      3 2001-10-04  1.124688  1.175000  1.072188  1.140625   0.764977   \n",
       "4      4 2001-10-05  1.125000  1.218438  1.125000  1.169063   0.784049   \n",
       "\n",
       "    Volume  \n",
       "0  2073600  \n",
       "1   966400  \n",
       "2  8710400  \n",
       "3  5382400  \n",
       "4  3206400  "
      ]
     },
     "execution_count": 10,
     "metadata": {},
     "output_type": "execute_result"
    }
   ],
   "source": [
    "df = df.reset_index()\n",
    "df.head()"
   ]
  },
  {
   "cell_type": "code",
   "execution_count": 11,
   "id": "a1078d8c",
   "metadata": {},
   "outputs": [],
   "source": [
    "df = df.drop(['index','Date','Adj Close'], axis=1)"
   ]
  },
  {
   "cell_type": "code",
   "execution_count": 29,
   "id": "61dd54e6",
   "metadata": {},
   "outputs": [
    {
     "data": {
      "text/html": [
       "<div>\n",
       "<style scoped>\n",
       "    .dataframe tbody tr th:only-of-type {\n",
       "        vertical-align: middle;\n",
       "    }\n",
       "\n",
       "    .dataframe tbody tr th {\n",
       "        vertical-align: top;\n",
       "    }\n",
       "\n",
       "    .dataframe thead th {\n",
       "        text-align: right;\n",
       "    }\n",
       "</style>\n",
       "<table border=\"1\" class=\"dataframe\">\n",
       "  <thead>\n",
       "    <tr style=\"text-align: right;\">\n",
       "      <th></th>\n",
       "      <th>Open</th>\n",
       "      <th>High</th>\n",
       "      <th>Low</th>\n",
       "      <th>Close</th>\n",
       "      <th>Volume</th>\n",
       "    </tr>\n",
       "  </thead>\n",
       "  <tbody>\n",
       "    <tr>\n",
       "      <th>0</th>\n",
       "      <td>1.640625</td>\n",
       "      <td>1.656250</td>\n",
       "      <td>1.588750</td>\n",
       "      <td>1.628438</td>\n",
       "      <td>2163200</td>\n",
       "    </tr>\n",
       "    <tr>\n",
       "      <th>1</th>\n",
       "      <td>1.584375</td>\n",
       "      <td>1.718750</td>\n",
       "      <td>1.532813</td>\n",
       "      <td>1.690625</td>\n",
       "      <td>5516800</td>\n",
       "    </tr>\n",
       "    <tr>\n",
       "      <th>2</th>\n",
       "      <td>1.643750</td>\n",
       "      <td>1.696563</td>\n",
       "      <td>1.629688</td>\n",
       "      <td>1.651563</td>\n",
       "      <td>2428800</td>\n",
       "    </tr>\n",
       "    <tr>\n",
       "      <th>3</th>\n",
       "      <td>1.630938</td>\n",
       "      <td>1.631250</td>\n",
       "      <td>1.531563</td>\n",
       "      <td>1.541563</td>\n",
       "      <td>4195200</td>\n",
       "    </tr>\n",
       "    <tr>\n",
       "      <th>4</th>\n",
       "      <td>1.532188</td>\n",
       "      <td>1.537500</td>\n",
       "      <td>1.475313</td>\n",
       "      <td>1.493750</td>\n",
       "      <td>3686400</td>\n",
       "    </tr>\n",
       "  </tbody>\n",
       "</table>\n",
       "</div>"
      ],
      "text/plain": [
       "       Open      High       Low     Close   Volume\n",
       "0  1.640625  1.656250  1.588750  1.628438  2163200\n",
       "1  1.584375  1.718750  1.532813  1.690625  5516800\n",
       "2  1.643750  1.696563  1.629688  1.651563  2428800\n",
       "3  1.630938  1.631250  1.531563  1.541563  4195200\n",
       "4  1.532188  1.537500  1.475313  1.493750  3686400"
      ]
     },
     "execution_count": 29,
     "metadata": {},
     "output_type": "execute_result"
    }
   ],
   "source": [
    "df.head()"
   ]
  },
  {
   "cell_type": "code",
   "execution_count": 12,
   "id": "d2aaba22",
   "metadata": {},
   "outputs": [
    {
     "data": {
      "text/plain": [
       "[<matplotlib.lines.Line2D at 0x21324f09050>]"
      ]
     },
     "execution_count": 12,
     "metadata": {},
     "output_type": "execute_result"
    },
    {
     "data": {
      "image/png": "[encoded data removed]",
      "text/plain": [
       "<Figure size 640x480 with 1 Axes>"
      ]
     },
     "metadata": {},
     "output_type": "display_data"
    }
   ],
   "source": [
    "plt.plot(df.Close)"
   ]
  },
  {
   "cell_type": "code",
   "execution_count": 13,
   "id": "11874a9e",
   "metadata": {},
   "outputs": [
    {
     "data": {
      "text/html": [
       "<div>\n",
       "<style scoped>\n",
       "    .dataframe tbody tr th:only-of-type {\n",
       "        vertical-align: middle;\n",
       "    }\n",
       "\n",
       "    .dataframe tbody tr th {\n",
       "        vertical-align: top;\n",
       "    }\n",
       "\n",
       "    .dataframe thead th {\n",
       "        text-align: right;\n",
       "    }\n",
       "</style>\n",
       "<table border=\"1\" class=\"dataframe\">\n",
       "  <thead>\n",
       "    <tr style=\"text-align: right;\">\n",
       "      <th></th>\n",
       "      <th>Open</th>\n",
       "      <th>High</th>\n",
       "      <th>Low</th>\n",
       "      <th>Close</th>\n",
       "      <th>Volume</th>\n",
       "    </tr>\n",
       "  </thead>\n",
       "  <tbody>\n",
       "    <tr>\n",
       "      <th>0</th>\n",
       "      <td>1.070938</td>\n",
       "      <td>1.070938</td>\n",
       "      <td>0.990313</td>\n",
       "      <td>1.037500</td>\n",
       "      <td>2073600</td>\n",
       "    </tr>\n",
       "    <tr>\n",
       "      <th>1</th>\n",
       "      <td>1.015938</td>\n",
       "      <td>1.093750</td>\n",
       "      <td>1.008125</td>\n",
       "      <td>1.093750</td>\n",
       "      <td>966400</td>\n",
       "    </tr>\n",
       "    <tr>\n",
       "      <th>2</th>\n",
       "      <td>1.018750</td>\n",
       "      <td>1.120313</td>\n",
       "      <td>1.018750</td>\n",
       "      <td>1.071875</td>\n",
       "      <td>8710400</td>\n",
       "    </tr>\n",
       "    <tr>\n",
       "      <th>3</th>\n",
       "      <td>1.124688</td>\n",
       "      <td>1.175000</td>\n",
       "      <td>1.072188</td>\n",
       "      <td>1.140625</td>\n",
       "      <td>5382400</td>\n",
       "    </tr>\n",
       "    <tr>\n",
       "      <th>4</th>\n",
       "      <td>1.125000</td>\n",
       "      <td>1.218438</td>\n",
       "      <td>1.125000</td>\n",
       "      <td>1.169063</td>\n",
       "      <td>3206400</td>\n",
       "    </tr>\n",
       "    <tr>\n",
       "      <th>...</th>\n",
       "      <td>...</td>\n",
       "      <td>...</td>\n",
       "      <td>...</td>\n",
       "      <td>...</td>\n",
       "      <td>...</td>\n",
       "    </tr>\n",
       "    <tr>\n",
       "      <th>5494</th>\n",
       "      <td>16.620001</td>\n",
       "      <td>16.750000</td>\n",
       "      <td>16.600000</td>\n",
       "      <td>16.660000</td>\n",
       "      <td>6604000</td>\n",
       "    </tr>\n",
       "    <tr>\n",
       "      <th>5495</th>\n",
       "      <td>16.719999</td>\n",
       "      <td>16.840000</td>\n",
       "      <td>16.650000</td>\n",
       "      <td>16.799999</td>\n",
       "      <td>7462200</td>\n",
       "    </tr>\n",
       "    <tr>\n",
       "      <th>5496</th>\n",
       "      <td>16.540001</td>\n",
       "      <td>16.600000</td>\n",
       "      <td>16.430000</td>\n",
       "      <td>16.520000</td>\n",
       "      <td>11896400</td>\n",
       "    </tr>\n",
       "    <tr>\n",
       "      <th>5497</th>\n",
       "      <td>16.520000</td>\n",
       "      <td>16.559999</td>\n",
       "      <td>16.440001</td>\n",
       "      <td>16.510000</td>\n",
       "      <td>10134400</td>\n",
       "    </tr>\n",
       "    <tr>\n",
       "      <th>5498</th>\n",
       "      <td>16.680000</td>\n",
       "      <td>16.879999</td>\n",
       "      <td>16.639999</td>\n",
       "      <td>16.709999</td>\n",
       "      <td>7012200</td>\n",
       "    </tr>\n",
       "  </tbody>\n",
       "</table>\n",
       "<p>5499 rows × 5 columns</p>\n",
       "</div>"
      ],
      "text/plain": [
       "           Open       High        Low      Close    Volume\n",
       "0      1.070938   1.070938   0.990313   1.037500   2073600\n",
       "1      1.015938   1.093750   1.008125   1.093750    966400\n",
       "2      1.018750   1.120313   1.018750   1.071875   8710400\n",
       "3      1.124688   1.175000   1.072188   1.140625   5382400\n",
       "4      1.125000   1.218438   1.125000   1.169063   3206400\n",
       "...         ...        ...        ...        ...       ...\n",
       "5494  16.620001  16.750000  16.600000  16.660000   6604000\n",
       "5495  16.719999  16.840000  16.650000  16.799999   7462200\n",
       "5496  16.540001  16.600000  16.430000  16.520000  11896400\n",
       "5497  16.520000  16.559999  16.440001  16.510000  10134400\n",
       "5498  16.680000  16.879999  16.639999  16.709999   7012200\n",
       "\n",
       "[5499 rows x 5 columns]"
      ]
     },
     "execution_count": 13,
     "metadata": {},
     "output_type": "execute_result"
    }
   ],
   "source": [
    "df"
   ]
  },
  {
   "cell_type": "code",
   "execution_count": 14,
   "id": "162f58cf",
   "metadata": {},
   "outputs": [],
   "source": [
    "ma100 = df.Close.rolling(100).mean()"
   ]
  },
  {
   "cell_type": "code",
   "execution_count": 15,
   "id": "ad9be936",
   "metadata": {},
   "outputs": [
    {
     "data": {
      "text/plain": [
       "0           NaN\n",
       "1           NaN\n",
       "2           NaN\n",
       "3           NaN\n",
       "4           NaN\n",
       "         ...   \n",
       "5494    16.0904\n",
       "5495    16.0768\n",
       "5496    16.0648\n",
       "5497    16.0531\n",
       "5498    16.0475\n",
       "Name: Close, Length: 5499, dtype: float64"
      ]
     },
     "execution_count": 15,
     "metadata": {},
     "output_type": "execute_result"
    }
   ],
   "source": [
    "ma100"
   ]
  },
  {
   "cell_type": "code",
   "execution_count": 16,
   "id": "4b839f7d",
   "metadata": {},
   "outputs": [
    {
     "data": {
      "text/plain": [
       "[<matplotlib.lines.Line2D at 0x213257f8490>]"
      ]
     },
     "execution_count": 16,
     "metadata": {},
     "output_type": "execute_result"
    },
    {
     "data": {
      "image/png": "[encoded data removed]",
      "text/plain": [
       "<Figure size 1200x600 with 1 Axes>"
      ]
     },
     "metadata": {},
     "output_type": "display_data"
    }
   ],
   "source": [
    "plt.figure(figsize=(12,6))\n",
    "plt.plot(df.Close,'y')\n",
    "plt.plot(ma100,'r')"
   ]
  },
  {
   "cell_type": "code",
   "execution_count": 18,
   "id": "e770ef55",
   "metadata": {},
   "outputs": [
    {
     "data": {
      "text/plain": [
       "0            NaN\n",
       "1            NaN\n",
       "2            NaN\n",
       "3            NaN\n",
       "4            NaN\n",
       "          ...   \n",
       "5494    17.39630\n",
       "5495    17.39480\n",
       "5496    17.38715\n",
       "5497    17.38065\n",
       "5498    17.37340\n",
       "Name: Close, Length: 5499, dtype: float64"
      ]
     },
     "execution_count": 18,
     "metadata": {},
     "output_type": "execute_result"
    }
   ],
   "source": [
    "ma200 = df.Close.rolling(200).mean()\n",
    "ma200"
   ]
  },
  {
   "cell_type": "code",
   "execution_count": 19,
   "id": "062b2358",
   "metadata": {},
   "outputs": [
    {
     "data": {
      "text/plain": [
       "[<matplotlib.lines.Line2D at 0x2132588e010>]"
      ]
     },
     "execution_count": 19,
     "metadata": {},
     "output_type": "execute_result"
    },
    {
     "data": {
      "image/png": "[encoded data removed]",
      "text/plain": [
       "<Figure size 1200x600 with 1 Axes>"
      ]
     },
     "metadata": {},
     "output_type": "display_data"
    }
   ],
   "source": [
    "plt.figure(figsize=(12,6))\n",
    "plt.plot(df.Close,'y')\n",
    "plt.plot(ma100,'r')\n",
    "plt.plot(ma200,'b')"
   ]
  },
  {
   "cell_type": "code",
   "execution_count": 20,
   "id": "8976f957",
   "metadata": {},
   "outputs": [
    {
     "data": {
      "text/plain": [
       "(5499, 5)"
      ]
     },
     "execution_count": 20,
     "metadata": {},
     "output_type": "execute_result"
    }
   ],
   "source": [
    "df.shape"
   ]
  },
  {
   "cell_type": "code",
   "execution_count": 53,
   "id": "99ddb5d1",
   "metadata": {},
   "outputs": [
    {
     "name": "stdout",
     "output_type": "stream",
     "text": [
      "(3849, 1)\n",
      "(1650, 1)\n"
     ]
    }
   ],
   "source": [
    "#spliting data into training and testing\n",
    "\n",
    "data_train = pd.DataFrame(df['Close'][0:int(len(df)*0.70)])\n",
    "data_test = pd.DataFrame(df['Close'][int(len(df)*0.70):int(len(df))])\n",
    "\n",
    "print(data_train.shape)\n",
    "print(data_test.shape)"
   ]
  },
  {
   "cell_type": "code",
   "execution_count": 54,
   "id": "cc1cbdab",
   "metadata": {},
   "outputs": [
    {
     "data": {
      "text/html": [
       "<div>\n",
       "<style scoped>\n",
       "    .dataframe tbody tr th:only-of-type {\n",
       "        vertical-align: middle;\n",
       "    }\n",
       "\n",
       "    .dataframe tbody tr th {\n",
       "        vertical-align: top;\n",
       "    }\n",
       "\n",
       "    .dataframe thead th {\n",
       "        text-align: right;\n",
       "    }\n",
       "</style>\n",
       "<table border=\"1\" class=\"dataframe\">\n",
       "  <thead>\n",
       "    <tr style=\"text-align: right;\">\n",
       "      <th></th>\n",
       "      <th>Close</th>\n",
       "    </tr>\n",
       "  </thead>\n",
       "  <tbody>\n",
       "    <tr>\n",
       "      <th>0</th>\n",
       "      <td>1.037500</td>\n",
       "    </tr>\n",
       "    <tr>\n",
       "      <th>1</th>\n",
       "      <td>1.093750</td>\n",
       "    </tr>\n",
       "    <tr>\n",
       "      <th>2</th>\n",
       "      <td>1.071875</td>\n",
       "    </tr>\n",
       "    <tr>\n",
       "      <th>3</th>\n",
       "      <td>1.140625</td>\n",
       "    </tr>\n",
       "    <tr>\n",
       "      <th>4</th>\n",
       "      <td>1.169063</td>\n",
       "    </tr>\n",
       "  </tbody>\n",
       "</table>\n",
       "</div>"
      ],
      "text/plain": [
       "      Close\n",
       "0  1.037500\n",
       "1  1.093750\n",
       "2  1.071875\n",
       "3  1.140625\n",
       "4  1.169063"
      ]
     },
     "execution_count": 54,
     "metadata": {},
     "output_type": "execute_result"
    }
   ],
   "source": [
    "data_train.head()"
   ]
  },
  {
   "cell_type": "code",
   "execution_count": 55,
   "id": "e52b46e8",
   "metadata": {},
   "outputs": [
    {
     "data": {
      "text/html": [
       "<div>\n",
       "<style scoped>\n",
       "    .dataframe tbody tr th:only-of-type {\n",
       "        vertical-align: middle;\n",
       "    }\n",
       "\n",
       "    .dataframe tbody tr th {\n",
       "        vertical-align: top;\n",
       "    }\n",
       "\n",
       "    .dataframe thead th {\n",
       "        text-align: right;\n",
       "    }\n",
       "</style>\n",
       "<table border=\"1\" class=\"dataframe\">\n",
       "  <thead>\n",
       "    <tr style=\"text-align: right;\">\n",
       "      <th></th>\n",
       "      <th>Close</th>\n",
       "    </tr>\n",
       "  </thead>\n",
       "  <tbody>\n",
       "    <tr>\n",
       "      <th>3849</th>\n",
       "      <td>7.250</td>\n",
       "    </tr>\n",
       "    <tr>\n",
       "      <th>3850</th>\n",
       "      <td>7.245</td>\n",
       "    </tr>\n",
       "    <tr>\n",
       "      <th>3851</th>\n",
       "      <td>7.220</td>\n",
       "    </tr>\n",
       "    <tr>\n",
       "      <th>3852</th>\n",
       "      <td>7.195</td>\n",
       "    </tr>\n",
       "    <tr>\n",
       "      <th>3853</th>\n",
       "      <td>7.180</td>\n",
       "    </tr>\n",
       "  </tbody>\n",
       "</table>\n",
       "</div>"
      ],
      "text/plain": [
       "      Close\n",
       "3849  7.250\n",
       "3850  7.245\n",
       "3851  7.220\n",
       "3852  7.195\n",
       "3853  7.180"
      ]
     },
     "execution_count": 55,
     "metadata": {},
     "output_type": "execute_result"
    }
   ],
   "source": [
    "data_test.head()"
   ]
  },
  {
   "cell_type": "code",
   "execution_count": 56,
   "id": "11621d41",
   "metadata": {},
   "outputs": [],
   "source": [
    "#normalization of data\n",
    "\n",
    "from sklearn.preprocessing import MinMaxScaler\n",
    "scaler = MinMaxScaler(feature_range=(0,1))"
   ]
  },
  {
   "cell_type": "code",
   "execution_count": 57,
   "id": "36e22118",
   "metadata": {},
   "outputs": [
    {
     "data": {
      "text/plain": [
       "array([[0.        ],\n",
       "       [0.00627615],\n",
       "       [0.00383542],\n",
       "       ...,\n",
       "       [0.7087866 ],\n",
       "       [0.73165967],\n",
       "       [0.73500697]])"
      ]
     },
     "execution_count": 57,
     "metadata": {},
     "output_type": "execute_result"
    }
   ],
   "source": [
    "data_train_array = scaler.fit_transform(data_train)\n",
    "data_train_array"
   ]
  },
  {
   "cell_type": "code",
   "execution_count": 58,
   "id": "8544ec14",
   "metadata": {},
   "outputs": [
    {
     "data": {
      "text/plain": [
       "(3849, 1)"
      ]
     },
     "execution_count": 58,
     "metadata": {},
     "output_type": "execute_result"
    }
   ],
   "source": [
    "data_train_array.shape"
   ]
  },
  {
   "cell_type": "code",
   "execution_count": 62,
   "id": "df2716ae",
   "metadata": {},
   "outputs": [],
   "source": [
    "x_train = []\n",
    "y_train = []\n",
    "\n",
    "for i in range(100,data_train_array.shape[0]):\n",
    "    x_train.append(data_train_array[i-100:i])\n",
    "    y_train.append(data_train_array[i,0])\n",
    "x_train, y_train = np.array(x_train),np.array(y_train)"
   ]
  },
  {
   "cell_type": "code",
   "execution_count": 63,
   "id": "57f524c6",
   "metadata": {},
   "outputs": [
    {
     "data": {
      "text/plain": [
       "(3749, 100, 1)"
      ]
     },
     "execution_count": 63,
     "metadata": {},
     "output_type": "execute_result"
    }
   ],
   "source": [
    "x_train.shape"
   ]
  },
  {
   "cell_type": "code",
   "execution_count": 64,
   "id": "914d3197",
   "metadata": {},
   "outputs": [
    {
     "data": {
      "text/plain": [
       "array([[[0.        ],\n",
       "        [0.00627615],\n",
       "        [0.00383542],\n",
       "        ...,\n",
       "        [0.07182705],\n",
       "        [0.0740935 ],\n",
       "        [0.08211302]],\n",
       "\n",
       "       [[0.00627615],\n",
       "        [0.00383542],\n",
       "        [0.01150627],\n",
       "        ...,\n",
       "        [0.0740935 ],\n",
       "        [0.08211302],\n",
       "        [0.08716876]],\n",
       "\n",
       "       [[0.00383542],\n",
       "        [0.01150627],\n",
       "        [0.01467927],\n",
       "        ...,\n",
       "        [0.08211302],\n",
       "        [0.08716876],\n",
       "        [0.08375175]],\n",
       "\n",
       "       ...,\n",
       "\n",
       "       [[0.77238494],\n",
       "        [0.77015342],\n",
       "        [0.77126916],\n",
       "        ...,\n",
       "        [0.72217576],\n",
       "        [0.71101811],\n",
       "        [0.71882845]],\n",
       "\n",
       "       [[0.77015342],\n",
       "        [0.77126916],\n",
       "        [0.76569039],\n",
       "        ...,\n",
       "        [0.71101811],\n",
       "        [0.71882845],\n",
       "        [0.7087866 ]],\n",
       "\n",
       "       [[0.77126916],\n",
       "        [0.76569039],\n",
       "        [0.80697355],\n",
       "        ...,\n",
       "        [0.71882845],\n",
       "        [0.7087866 ],\n",
       "        [0.73165967]]])"
      ]
     },
     "execution_count": 64,
     "metadata": {},
     "output_type": "execute_result"
    }
   ],
   "source": [
    "x_train"
   ]
  },
  {
   "cell_type": "code",
   "execution_count": 30,
   "id": "4890f886",
   "metadata": {},
   "outputs": [],
   "source": [
    "#ML Model"
   ]
  },
  {
   "cell_type": "code",
   "execution_count": 123,
   "id": "303186a5",
   "metadata": {},
   "outputs": [],
   "source": [
    "from tensorflow.keras.models import Sequential\n",
    "from tensorflow.keras.layers import Dense, Dropout, LSTM"
   ]
  },
  {
   "cell_type": "code",
   "execution_count": 124,
   "id": "632375ce",
   "metadata": {},
   "outputs": [],
   "source": [
    "model = Sequential()\n",
    "\n",
    "model.add(LSTM(units=50, activation='relu', return_sequences=True, input_shape=(x_train.shape[1],1)))\n",
    "model.add(Dropout(0.2))\n",
    "\n",
    "model.add(LSTM(units=60, activation='relu', return_sequences=True))\n",
    "model.add(Dropout(0.3))\n",
    "\n",
    "model.add(LSTM(units=80, activation='relu', return_sequences=True))\n",
    "model.add(Dropout(0.4))\n",
    "\n",
    "model.add(LSTM(units=120, activation='relu'))\n",
    "model.add(Dropout(0.5))\n",
    "\n",
    "model.add(Dense(units = 1))"
   ]
  },
  {
   "cell_type": "code",
   "execution_count": 125,
   "id": "db286203",
   "metadata": {},
   "outputs": [
    {
     "name": "stdout",
     "output_type": "stream",
     "text": [
      "Model: \"sequential_2\"\n",
      "_________________________________________________________________\n",
      " Layer (type)                Output Shape              Param #   \n",
      "=================================================================\n",
      " lstm_8 (LSTM)               (None, 100, 50)           10400     \n",
      "                                                                 \n",
      " dropout_8 (Dropout)         (None, 100, 50)           0         \n",
      "                                                                 \n",
      " lstm_9 (LSTM)               (None, 100, 60)           26640     \n",
      "                                                                 \n",
      " dropout_9 (Dropout)         (None, 100, 60)           0         \n",
      "                                                                 \n",
      " lstm_10 (LSTM)              (None, 100, 80)           45120     \n",
      "                                                                 \n",
      " dropout_10 (Dropout)        (None, 100, 80)           0         \n",
      "                                                                 \n",
      " lstm_11 (LSTM)              (None, 120)               96480     \n",
      "                                                                 \n",
      " dropout_11 (Dropout)        (None, 120)               0         \n",
      "                                                                 \n",
      " dense_2 (Dense)             (None, 1)                 121       \n",
      "                                                                 \n",
      "=================================================================\n",
      "Total params: 178761 (698.29 KB)\n",
      "Trainable params: 178761 (698.29 KB)\n",
      "Non-trainable params: 0 (0.00 Byte)\n",
      "_________________________________________________________________\n"
     ]
    }
   ],
   "source": [
    "model.summary()"
   ]
  },
  {
   "cell_type": "code",
   "execution_count": 126,
   "id": "786a0fe3",
   "metadata": {},
   "outputs": [
    {
     "name": "stdout",
     "output_type": "stream",
     "text": [
      "Epoch 1/100\n",
      "118/118 [==============================] - 20s 136ms/step - loss: 0.0418\n",
      "Epoch 2/100\n",
      "118/118 [==============================] - 16s 133ms/step - loss: 0.0108\n",
      "Epoch 3/100\n",
      "118/118 [==============================] - 16s 138ms/step - loss: 0.0095\n",
      "Epoch 4/100\n",
      "118/118 [==============================] - 17s 140ms/step - loss: 0.0092\n",
      "Epoch 5/100\n",
      "118/118 [==============================] - 16s 138ms/step - loss: 0.0077\n",
      "Epoch 6/100\n",
      "118/118 [==============================] - 17s 141ms/step - loss: 0.0075\n",
      "Epoch 7/100\n",
      "118/118 [==============================] - 16s 139ms/step - loss: 0.0073\n",
      "Epoch 8/100\n",
      "118/118 [==============================] - 17s 145ms/step - loss: 0.0068\n",
      "Epoch 9/100\n",
      "118/118 [==============================] - 17s 143ms/step - loss: 0.0059\n",
      "Epoch 10/100\n",
      "118/118 [==============================] - 17s 144ms/step - loss: 0.0061\n",
      "Epoch 11/100\n",
      "118/118 [==============================] - 17s 146ms/step - loss: 0.0056\n",
      "Epoch 12/100\n",
      "118/118 [==============================] - 17s 145ms/step - loss: 0.0052\n",
      "Epoch 13/100\n",
      "118/118 [==============================] - 17s 147ms/step - loss: 0.0049\n",
      "Epoch 14/100\n",
      "118/118 [==============================] - 16s 138ms/step - loss: 0.0046\n",
      "Epoch 15/100\n",
      "118/118 [==============================] - 16s 140ms/step - loss: 0.0043\n",
      "Epoch 16/100\n",
      "118/118 [==============================] - 16s 138ms/step - loss: 0.0040\n",
      "Epoch 17/100\n",
      "118/118 [==============================] - 16s 139ms/step - loss: 0.0040\n",
      "Epoch 18/100\n",
      "118/118 [==============================] - 17s 143ms/step - loss: 0.0037\n",
      "Epoch 19/100\n",
      "118/118 [==============================] - 17s 140ms/step - loss: 0.0036\n",
      "Epoch 20/100\n",
      "118/118 [==============================] - 17s 145ms/step - loss: 0.0033\n",
      "Epoch 21/100\n",
      "118/118 [==============================] - 17s 143ms/step - loss: 0.0031\n",
      "Epoch 22/100\n",
      "118/118 [==============================] - 17s 146ms/step - loss: 0.0031\n",
      "Epoch 23/100\n",
      "118/118 [==============================] - 17s 141ms/step - loss: 0.0030\n",
      "Epoch 24/100\n",
      "118/118 [==============================] - 17s 142ms/step - loss: 0.0030\n",
      "Epoch 25/100\n",
      "118/118 [==============================] - 17s 142ms/step - loss: 0.0031\n",
      "Epoch 26/100\n",
      "118/118 [==============================] - 17s 146ms/step - loss: 0.0027\n",
      "Epoch 27/100\n",
      "118/118 [==============================] - 17s 143ms/step - loss: 0.0028\n",
      "Epoch 28/100\n",
      "118/118 [==============================] - 17s 141ms/step - loss: 0.0027\n",
      "Epoch 29/100\n",
      "118/118 [==============================] - 17s 141ms/step - loss: 0.0025\n",
      "Epoch 30/100\n",
      "118/118 [==============================] - 17s 145ms/step - loss: 0.0025\n",
      "Epoch 31/100\n",
      "118/118 [==============================] - 17s 141ms/step - loss: 0.0027\n",
      "Epoch 32/100\n",
      "118/118 [==============================] - 17s 141ms/step - loss: 0.0026\n",
      "Epoch 33/100\n",
      "118/118 [==============================] - 17s 144ms/step - loss: 0.0026\n",
      "Epoch 34/100\n",
      "118/118 [==============================] - 17s 142ms/step - loss: 0.0025\n",
      "Epoch 35/100\n",
      "118/118 [==============================] - 17s 140ms/step - loss: 0.0024\n",
      "Epoch 36/100\n",
      "118/118 [==============================] - 17s 141ms/step - loss: 0.0024\n",
      "Epoch 37/100\n",
      "118/118 [==============================] - 16s 137ms/step - loss: 0.0024\n",
      "Epoch 38/100\n",
      "118/118 [==============================] - 16s 138ms/step - loss: 0.0024\n",
      "Epoch 39/100\n",
      "118/118 [==============================] - 16s 138ms/step - loss: 0.0023\n",
      "Epoch 40/100\n",
      "118/118 [==============================] - 17s 141ms/step - loss: 0.0025\n",
      "Epoch 41/100\n",
      "118/118 [==============================] - 17s 140ms/step - loss: 0.0025\n",
      "Epoch 42/100\n",
      "118/118 [==============================] - 17s 141ms/step - loss: 0.0024\n",
      "Epoch 43/100\n",
      "118/118 [==============================] - 17s 143ms/step - loss: 0.0024\n",
      "Epoch 44/100\n",
      "118/118 [==============================] - 17s 148ms/step - loss: 0.0022\n",
      "Epoch 45/100\n",
      "118/118 [==============================] - 17s 142ms/step - loss: 0.0023\n",
      "Epoch 46/100\n",
      "118/118 [==============================] - 17s 143ms/step - loss: 0.0022\n",
      "Epoch 47/100\n",
      "118/118 [==============================] - 17s 142ms/step - loss: 0.0023\n",
      "Epoch 48/100\n",
      "118/118 [==============================] - 17s 142ms/step - loss: 0.0022\n",
      "Epoch 49/100\n",
      "118/118 [==============================] - 16s 139ms/step - loss: 0.0021\n",
      "Epoch 50/100\n",
      "118/118 [==============================] - 17s 142ms/step - loss: 0.0022\n",
      "Epoch 51/100\n",
      "118/118 [==============================] - 17s 141ms/step - loss: 0.0022\n",
      "Epoch 52/100\n",
      "118/118 [==============================] - 16s 139ms/step - loss: 0.0023\n",
      "Epoch 53/100\n",
      "118/118 [==============================] - 17s 143ms/step - loss: 0.0021\n",
      "Epoch 54/100\n",
      "118/118 [==============================] - 17s 142ms/step - loss: 0.0022\n",
      "Epoch 55/100\n",
      "118/118 [==============================] - 16s 139ms/step - loss: 0.0022\n",
      "Epoch 56/100\n",
      "118/118 [==============================] - 17s 140ms/step - loss: 0.0021\n",
      "Epoch 57/100\n",
      "118/118 [==============================] - 16s 139ms/step - loss: 0.0021\n",
      "Epoch 58/100\n",
      "118/118 [==============================] - 16s 139ms/step - loss: 0.0022\n",
      "Epoch 59/100\n",
      "118/118 [==============================] - 17s 143ms/step - loss: 0.0021\n",
      "Epoch 60/100\n",
      "118/118 [==============================] - 17s 140ms/step - loss: 0.0022\n",
      "Epoch 61/100\n",
      "118/118 [==============================] - 17s 141ms/step - loss: 0.0021\n",
      "Epoch 62/100\n",
      "118/118 [==============================] - 16s 139ms/step - loss: 0.0022\n",
      "Epoch 63/100\n",
      "118/118 [==============================] - 17s 140ms/step - loss: 0.0021\n",
      "Epoch 64/100\n",
      "118/118 [==============================] - 16s 138ms/step - loss: 0.0022\n",
      "Epoch 65/100\n",
      "118/118 [==============================] - 16s 138ms/step - loss: 0.0020\n",
      "Epoch 66/100\n",
      "118/118 [==============================] - 16s 136ms/step - loss: 0.0023\n",
      "Epoch 67/100\n",
      "118/118 [==============================] - 16s 134ms/step - loss: 0.0020\n",
      "Epoch 68/100\n",
      "118/118 [==============================] - 16s 138ms/step - loss: 0.0020\n",
      "Epoch 69/100\n",
      "118/118 [==============================] - 16s 138ms/step - loss: 0.0021\n",
      "Epoch 70/100\n",
      "118/118 [==============================] - 16s 139ms/step - loss: 0.0020\n",
      "Epoch 71/100\n",
      "118/118 [==============================] - 17s 141ms/step - loss: 0.0020\n",
      "Epoch 72/100\n",
      "118/118 [==============================] - 17s 143ms/step - loss: 0.0021\n",
      "Epoch 73/100\n",
      "118/118 [==============================] - 17s 142ms/step - loss: 0.0020\n",
      "Epoch 74/100\n",
      "118/118 [==============================] - 16s 138ms/step - loss: 0.0019\n",
      "Epoch 75/100\n",
      "118/118 [==============================] - 17s 140ms/step - loss: 0.0020\n",
      "Epoch 76/100\n",
      "118/118 [==============================] - 16s 139ms/step - loss: 0.0020\n",
      "Epoch 77/100\n",
      "118/118 [==============================] - 16s 136ms/step - loss: 0.0021\n",
      "Epoch 78/100\n",
      "118/118 [==============================] - 16s 134ms/step - loss: 0.0020\n",
      "Epoch 79/100\n",
      "118/118 [==============================] - 16s 139ms/step - loss: 0.0021\n",
      "Epoch 80/100\n",
      "118/118 [==============================] - 16s 138ms/step - loss: 0.0020\n",
      "Epoch 81/100\n",
      "118/118 [==============================] - 16s 138ms/step - loss: 0.0020\n",
      "Epoch 82/100\n",
      "118/118 [==============================] - 16s 137ms/step - loss: 0.0020\n",
      "Epoch 83/100\n",
      "118/118 [==============================] - 16s 136ms/step - loss: 0.0020\n",
      "Epoch 84/100\n",
      "118/118 [==============================] - 16s 139ms/step - loss: 0.0019\n",
      "Epoch 85/100\n",
      "118/118 [==============================] - 16s 135ms/step - loss: 0.0020\n",
      "Epoch 86/100\n",
      "118/118 [==============================] - 16s 137ms/step - loss: 0.0019\n",
      "Epoch 87/100\n",
      "118/118 [==============================] - 16s 136ms/step - loss: 0.0019\n",
      "Epoch 88/100\n",
      "118/118 [==============================] - 16s 134ms/step - loss: 0.0019\n",
      "Epoch 89/100\n",
      "118/118 [==============================] - 16s 135ms/step - loss: 0.0019\n",
      "Epoch 90/100\n",
      "118/118 [==============================] - 16s 134ms/step - loss: 0.0019\n",
      "Epoch 91/100\n",
      "118/118 [==============================] - 16s 135ms/step - loss: 0.0019\n",
      "Epoch 92/100\n",
      "118/118 [==============================] - 16s 135ms/step - loss: 0.0018\n",
      "Epoch 93/100\n",
      "118/118 [==============================] - 16s 136ms/step - loss: 0.0020\n",
      "Epoch 94/100\n",
      "118/118 [==============================] - 16s 136ms/step - loss: 0.0021\n",
      "Epoch 95/100\n",
      "118/118 [==============================] - 16s 136ms/step - loss: 0.0020\n",
      "Epoch 96/100\n"
     ]
    },
    {
     "name": "stdout",
     "output_type": "stream",
     "text": [
      "118/118 [==============================] - 16s 138ms/step - loss: 0.0019\n",
      "Epoch 97/100\n",
      "118/118 [==============================] - 16s 137ms/step - loss: 0.0019\n",
      "Epoch 98/100\n",
      "118/118 [==============================] - 17s 140ms/step - loss: 0.0019\n",
      "Epoch 99/100\n",
      "118/118 [==============================] - 16s 138ms/step - loss: 0.0019\n",
      "Epoch 100/100\n",
      "118/118 [==============================] - 16s 136ms/step - loss: 0.0019\n"
     ]
    },
    {
     "data": {
      "text/plain": [
       "<keras.src.callbacks.History at 0x21335a3cb90>"
      ]
     },
     "execution_count": 126,
     "metadata": {},
     "output_type": "execute_result"
    }
   ],
   "source": [
    "model.compile(optimizer='adam', loss='mean_squared_error')\n",
    "model.fit(x_train, y_train, epochs =100)"
   ]
  },
  {
   "cell_type": "code",
   "execution_count": 127,
   "id": "ec45da22",
   "metadata": {},
   "outputs": [],
   "source": [
    "model.save('keras_model.keras')"
   ]
  },
  {
   "cell_type": "code",
   "execution_count": 128,
   "id": "a982a8d1",
   "metadata": {},
   "outputs": [],
   "source": [
    "past_100_days = data_train.tail(100)"
   ]
  },
  {
   "cell_type": "code",
   "execution_count": 129,
   "id": "57bb532e",
   "metadata": {},
   "outputs": [],
   "source": [
    "final_df = pd.concat([past_100_days, data_test], ignore_index=True)"
   ]
  },
  {
   "cell_type": "code",
   "execution_count": 130,
   "id": "758bc7a4",
   "metadata": {},
   "outputs": [
    {
     "data": {
      "text/html": [
       "<div>\n",
       "<style scoped>\n",
       "    .dataframe tbody tr th:only-of-type {\n",
       "        vertical-align: middle;\n",
       "    }\n",
       "\n",
       "    .dataframe tbody tr th {\n",
       "        vertical-align: top;\n",
       "    }\n",
       "\n",
       "    .dataframe thead th {\n",
       "        text-align: right;\n",
       "    }\n",
       "</style>\n",
       "<table border=\"1\" class=\"dataframe\">\n",
       "  <thead>\n",
       "    <tr style=\"text-align: right;\">\n",
       "      <th></th>\n",
       "      <th>Close</th>\n",
       "    </tr>\n",
       "  </thead>\n",
       "  <tbody>\n",
       "    <tr>\n",
       "      <th>0</th>\n",
       "      <td>7.900</td>\n",
       "    </tr>\n",
       "    <tr>\n",
       "      <th>1</th>\n",
       "      <td>8.270</td>\n",
       "    </tr>\n",
       "    <tr>\n",
       "      <th>2</th>\n",
       "      <td>8.195</td>\n",
       "    </tr>\n",
       "    <tr>\n",
       "      <th>3</th>\n",
       "      <td>8.025</td>\n",
       "    </tr>\n",
       "    <tr>\n",
       "      <th>4</th>\n",
       "      <td>7.950</td>\n",
       "    </tr>\n",
       "  </tbody>\n",
       "</table>\n",
       "</div>"
      ],
      "text/plain": [
       "   Close\n",
       "0  7.900\n",
       "1  8.270\n",
       "2  8.195\n",
       "3  8.025\n",
       "4  7.950"
      ]
     },
     "execution_count": 130,
     "metadata": {},
     "output_type": "execute_result"
    }
   ],
   "source": [
    "final_df.head()"
   ]
  },
  {
   "cell_type": "code",
   "execution_count": 131,
   "id": "57ea4dd4",
   "metadata": {},
   "outputs": [
    {
     "data": {
      "text/plain": [
       "array([[0.05694409],\n",
       "       [0.07601135],\n",
       "       [0.07214633],\n",
       "       ...,\n",
       "       [0.5011595 ],\n",
       "       [0.50064415],\n",
       "       [0.51095072]])"
      ]
     },
     "execution_count": 131,
     "metadata": {},
     "output_type": "execute_result"
    }
   ],
   "source": [
    "input_data = scaler.fit_transform(final_df)\n",
    "input_data"
   ]
  },
  {
   "cell_type": "code",
   "execution_count": 132,
   "id": "ba5987d3",
   "metadata": {},
   "outputs": [
    {
     "data": {
      "text/plain": [
       "(1750, 1)"
      ]
     },
     "execution_count": 132,
     "metadata": {},
     "output_type": "execute_result"
    }
   ],
   "source": [
    "input_data.shape"
   ]
  },
  {
   "cell_type": "code",
   "execution_count": 133,
   "id": "2379895b",
   "metadata": {},
   "outputs": [],
   "source": [
    "x_test =[]\n",
    "y_test =[]\n",
    "\n",
    "for i in range(100,input_data.shape[0]):\n",
    "    x_test.append(input_data[i-100:i])\n",
    "    y_test.append(input_data[i,0])\n",
    "x_test, y_test = np.array(x_test),np.array(y_test)"
   ]
  },
  {
   "cell_type": "code",
   "execution_count": 134,
   "id": "e5ea5854",
   "metadata": {},
   "outputs": [
    {
     "name": "stdout",
     "output_type": "stream",
     "text": [
      "(1650, 100, 1)\n"
     ]
    }
   ],
   "source": [
    "print(x_test.shape)"
   ]
  },
  {
   "cell_type": "code",
   "execution_count": 135,
   "id": "01664801",
   "metadata": {},
   "outputs": [
    {
     "name": "stdout",
     "output_type": "stream",
     "text": [
      "(1650,)\n"
     ]
    }
   ],
   "source": [
    "print(y_test.shape)"
   ]
  },
  {
   "cell_type": "code",
   "execution_count": 136,
   "id": "984af77d",
   "metadata": {},
   "outputs": [],
   "source": [
    "#MAking prediction"
   ]
  },
  {
   "cell_type": "code",
   "execution_count": 137,
   "id": "fd4f898a",
   "metadata": {},
   "outputs": [
    {
     "name": "stdout",
     "output_type": "stream",
     "text": [
      "52/52 [==============================] - 2s 36ms/step\n"
     ]
    }
   ],
   "source": [
    "y_predict = model.predict(x_test)"
   ]
  },
  {
   "cell_type": "code",
   "execution_count": 138,
   "id": "4b9760e4",
   "metadata": {},
   "outputs": [],
   "source": [
    "y_predict = np.array(y_predict)"
   ]
  },
  {
   "cell_type": "code",
   "execution_count": 139,
   "id": "29ca8ab9",
   "metadata": {},
   "outputs": [
    {
     "data": {
      "text/plain": [
       "(1650, 1)"
      ]
     },
     "execution_count": 139,
     "metadata": {},
     "output_type": "execute_result"
    }
   ],
   "source": [
    "y_predict.shape"
   ]
  },
  {
   "cell_type": "code",
   "execution_count": 140,
   "id": "f9d7f888",
   "metadata": {},
   "outputs": [
    {
     "data": {
      "text/plain": [
       "(1650,)"
      ]
     },
     "execution_count": 140,
     "metadata": {},
     "output_type": "execute_result"
    }
   ],
   "source": [
    "y_test.shape"
   ]
  },
  {
   "cell_type": "code",
   "execution_count": 141,
   "id": "441dd9fd",
   "metadata": {},
   "outputs": [
    {
     "data": {
      "text/plain": [
       "array([0.05153311])"
      ]
     },
     "execution_count": 141,
     "metadata": {},
     "output_type": "execute_result"
    }
   ],
   "source": [
    "scaler.scale_"
   ]
  },
  {
   "cell_type": "code",
   "execution_count": 142,
   "id": "813434e3",
   "metadata": {},
   "outputs": [],
   "source": [
    "scale_factor = 1/0.05153311\n",
    "y_predict = y_predict*scale_factor\n",
    "y_test = y_test*scale_factor"
   ]
  },
  {
   "cell_type": "code",
   "execution_count": 143,
   "id": "d3227417",
   "metadata": {},
   "outputs": [
    {
     "data": {
      "image/png": "[encoded data removed]",
      "text/plain": [
       "<Figure size 1200x600 with 1 Axes>"
      ]
     },
     "metadata": {},
     "output_type": "display_data"
    }
   ],
   "source": [
    "plt.figure(figsize=(12,6))\n",
    "plt.plot(y_test, 'b' ,label='Original Price')\n",
    "plt.plot(y_predict, 'r' ,label='Predicted Price')\n",
    "plt.xlabel('Time')\n",
    "plt.ylabel('Price')\n",
    "plt.legend()\n",
    "plt.show()"
   ]
  },
  {
   "cell_type": "code",
   "execution_count": null,
   "id": "e1e7b6f8",
   "metadata": {},
   "outputs": [],
   "source": []
  }
 ],
 "metadata": {
  "kernelspec": {
   "display_name": "Python 3 (ipykernel)",
   "language": "python",
   "name": "python3"
  },
  "language_info": {
   "codemirror_mode": {
    "name": "ipython",
    "version": 3
   },
   "file_extension": ".py",
   "mimetype": "text/x-python",
   "name": "python",
   "nbconvert_exporter": "python",
   "pygments_lexer": "ipython3",
   "version": "3.11.3"
  }
 },
 "nbformat": 4,
 "nbformat_minor": 5
}
