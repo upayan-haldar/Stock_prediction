{
 "cells": [
  {
   "cell_type": "code",
   "execution_count": 4,
   "id": "f53325c6",
   "metadata": {},
   "outputs": [],
   "source": [
    "import pandas_datareader as pd"
   ]
  },
  {
   "cell_type": "code",
   "execution_count": 5,
   "id": "3b9100cd",
   "metadata": {},
   "outputs": [],
   "source": [
    "import numpy as np\n",
    "import pandas as pd\n",
    "import matplotlib.pyplot as plt\n",
    "import tensorflow as tf"
   ]
  },
  {
   "cell_type": "code",
   "execution_count": 6,
   "id": "06e5fef2",
   "metadata": {
    "scrolled": true
   },
   "outputs": [
    {
     "name": "stdout",
     "output_type": "stream",
     "text": [
      "[*********************100%***********************]  1 of 1 completed\n"
     ]
    },
    {
     "data": {
      "text/html": [
       "<div>\n",
       "<style scoped>\n",
       "    .dataframe tbody tr th:only-of-type {\n",
       "        vertical-align: middle;\n",
       "    }\n",
       "\n",
       "    .dataframe tbody tr th {\n",
       "        vertical-align: top;\n",
       "    }\n",
       "\n",
       "    .dataframe thead th {\n",
       "        text-align: right;\n",
       "    }\n",
       "</style>\n",
       "<table border=\"1\" class=\"dataframe\">\n",
       "  <thead>\n",
       "    <tr style=\"text-align: right;\">\n",
       "      <th></th>\n",
       "      <th>Open</th>\n",
       "      <th>High</th>\n",
       "      <th>Low</th>\n",
       "      <th>Close</th>\n",
       "      <th>Adj Close</th>\n",
       "      <th>Volume</th>\n",
       "    </tr>\n",
       "    <tr>\n",
       "      <th>Date</th>\n",
       "      <th></th>\n",
       "      <th></th>\n",
       "      <th></th>\n",
       "      <th></th>\n",
       "      <th></th>\n",
       "      <th></th>\n",
       "    </tr>\n",
       "  </thead>\n",
       "  <tbody>\n",
       "    <tr>\n",
       "      <th>2001-10-01</th>\n",
       "      <td>1.070938</td>\n",
       "      <td>1.070938</td>\n",
       "      <td>0.990313</td>\n",
       "      <td>1.037500</td>\n",
       "      <td>0.695814</td>\n",
       "      <td>2073600</td>\n",
       "    </tr>\n",
       "    <tr>\n",
       "      <th>2001-10-02</th>\n",
       "      <td>1.015938</td>\n",
       "      <td>1.093750</td>\n",
       "      <td>1.008125</td>\n",
       "      <td>1.093750</td>\n",
       "      <td>0.733539</td>\n",
       "      <td>966400</td>\n",
       "    </tr>\n",
       "    <tr>\n",
       "      <th>2001-10-03</th>\n",
       "      <td>1.018750</td>\n",
       "      <td>1.120313</td>\n",
       "      <td>1.018750</td>\n",
       "      <td>1.071875</td>\n",
       "      <td>0.718868</td>\n",
       "      <td>8710400</td>\n",
       "    </tr>\n",
       "    <tr>\n",
       "      <th>2001-10-04</th>\n",
       "      <td>1.124688</td>\n",
       "      <td>1.175000</td>\n",
       "      <td>1.072188</td>\n",
       "      <td>1.140625</td>\n",
       "      <td>0.764977</td>\n",
       "      <td>5382400</td>\n",
       "    </tr>\n",
       "    <tr>\n",
       "      <th>2001-10-05</th>\n",
       "      <td>1.125000</td>\n",
       "      <td>1.218438</td>\n",
       "      <td>1.125000</td>\n",
       "      <td>1.169063</td>\n",
       "      <td>0.784049</td>\n",
       "      <td>3206400</td>\n",
       "    </tr>\n",
       "  </tbody>\n",
       "</table>\n",
       "</div>"
      ],
      "text/plain": [
       "                Open      High       Low     Close  Adj Close   Volume\n",
       "Date                                                                  \n",
       "2001-10-01  1.070938  1.070938  0.990313  1.037500   0.695814  2073600\n",
       "2001-10-02  1.015938  1.093750  1.008125  1.093750   0.733539   966400\n",
       "2001-10-03  1.018750  1.120313  1.018750  1.071875   0.718868  8710400\n",
       "2001-10-04  1.124688  1.175000  1.072188  1.140625   0.764977  5382400\n",
       "2001-10-05  1.125000  1.218438  1.125000  1.169063   0.784049  3206400"
      ]
     },
     "execution_count": 6,
     "metadata": {},
     "output_type": "execute_result"
    }
   ],
   "source": [
    "from pandas_datareader import data as pdr\n",
    "import yfinance as yfin\n",
    "\n",
    "\n",
    "yfin.pdr_override()\n",
    "\n",
    "df = pdr.get_data_yahoo('INFY', start='2001-10-01', end='2023-08-06')\n",
    "\n",
    "df.head()"
   ]
  },
  {
   "cell_type": "code",
   "execution_count": 7,
   "id": "54d1c753",
   "metadata": {},
   "outputs": [
    {
     "data": {
      "text/html": [
       "<div>\n",
       "<style scoped>\n",
       "    .dataframe tbody tr th:only-of-type {\n",
       "        vertical-align: middle;\n",
       "    }\n",
       "\n",
       "    .dataframe tbody tr th {\n",
       "        vertical-align: top;\n",
       "    }\n",
       "\n",
       "    .dataframe thead th {\n",
       "        text-align: right;\n",
       "    }\n",
       "</style>\n",
       "<table border=\"1\" class=\"dataframe\">\n",
       "  <thead>\n",
       "    <tr style=\"text-align: right;\">\n",
       "      <th></th>\n",
       "      <th>Open</th>\n",
       "      <th>High</th>\n",
       "      <th>Low</th>\n",
       "      <th>Close</th>\n",
       "      <th>Adj Close</th>\n",
       "      <th>Volume</th>\n",
       "    </tr>\n",
       "    <tr>\n",
       "      <th>Date</th>\n",
       "      <th></th>\n",
       "      <th></th>\n",
       "      <th></th>\n",
       "      <th></th>\n",
       "      <th></th>\n",
       "      <th></th>\n",
       "    </tr>\n",
       "  </thead>\n",
       "  <tbody>\n",
       "    <tr>\n",
       "      <th>2023-07-31</th>\n",
       "      <td>16.620001</td>\n",
       "      <td>16.750000</td>\n",
       "      <td>16.600000</td>\n",
       "      <td>16.660000</td>\n",
       "      <td>16.660000</td>\n",
       "      <td>6604000</td>\n",
       "    </tr>\n",
       "    <tr>\n",
       "      <th>2023-08-01</th>\n",
       "      <td>16.719999</td>\n",
       "      <td>16.840000</td>\n",
       "      <td>16.650000</td>\n",
       "      <td>16.799999</td>\n",
       "      <td>16.799999</td>\n",
       "      <td>7462200</td>\n",
       "    </tr>\n",
       "    <tr>\n",
       "      <th>2023-08-02</th>\n",
       "      <td>16.540001</td>\n",
       "      <td>16.600000</td>\n",
       "      <td>16.430000</td>\n",
       "      <td>16.520000</td>\n",
       "      <td>16.520000</td>\n",
       "      <td>11896400</td>\n",
       "    </tr>\n",
       "    <tr>\n",
       "      <th>2023-08-03</th>\n",
       "      <td>16.520000</td>\n",
       "      <td>16.559999</td>\n",
       "      <td>16.440001</td>\n",
       "      <td>16.510000</td>\n",
       "      <td>16.510000</td>\n",
       "      <td>10134400</td>\n",
       "    </tr>\n",
       "    <tr>\n",
       "      <th>2023-08-04</th>\n",
       "      <td>16.680000</td>\n",
       "      <td>16.879999</td>\n",
       "      <td>16.639999</td>\n",
       "      <td>16.709999</td>\n",
       "      <td>16.709999</td>\n",
       "      <td>7012200</td>\n",
       "    </tr>\n",
       "  </tbody>\n",
       "</table>\n",
       "</div>"
      ],
      "text/plain": [
       "                 Open       High        Low      Close  Adj Close    Volume\n",
       "Date                                                                       \n",
       "2023-07-31  16.620001  16.750000  16.600000  16.660000  16.660000   6604000\n",
       "2023-08-01  16.719999  16.840000  16.650000  16.799999  16.799999   7462200\n",
       "2023-08-02  16.540001  16.600000  16.430000  16.520000  16.520000  11896400\n",
       "2023-08-03  16.520000  16.559999  16.440001  16.510000  16.510000  10134400\n",
       "2023-08-04  16.680000  16.879999  16.639999  16.709999  16.709999   7012200"
      ]
     },
     "execution_count": 7,
     "metadata": {},
     "output_type": "execute_result"
    }
   ],
   "source": [
    "df.tail()"
   ]
  },
  {
   "cell_type": "code",
   "execution_count": 10,
   "id": "1a6f7cad",
   "metadata": {},
   "outputs": [
    {
     "data": {
      "text/html": [
       "<div>\n",
       "<style scoped>\n",
       "    .dataframe tbody tr th:only-of-type {\n",
       "        vertical-align: middle;\n",
       "    }\n",
       "\n",
       "    .dataframe tbody tr th {\n",
       "        vertical-align: top;\n",
       "    }\n",
       "\n",
       "    .dataframe thead th {\n",
       "        text-align: right;\n",
       "    }\n",
       "</style>\n",
       "<table border=\"1\" class=\"dataframe\">\n",
       "  <thead>\n",
       "    <tr style=\"text-align: right;\">\n",
       "      <th></th>\n",
       "      <th>index</th>\n",
       "      <th>Date</th>\n",
       "      <th>Open</th>\n",
       "      <th>High</th>\n",
       "      <th>Low</th>\n",
       "      <th>Close</th>\n",
       "      <th>Adj Close</th>\n",
       "      <th>Volume</th>\n",
       "    </tr>\n",
       "  </thead>\n",
       "  <tbody>\n",
       "    <tr>\n",
       "      <th>0</th>\n",
       "      <td>0</td>\n",
       "      <td>2001-10-01</td>\n",
       "      <td>1.070938</td>\n",
       "      <td>1.070938</td>\n",
       "      <td>0.990313</td>\n",
       "      <td>1.037500</td>\n",
       "      <td>0.695814</td>\n",
       "      <td>2073600</td>\n",
       "    </tr>\n",
       "    <tr>\n",
       "      <th>1</th>\n",
       "      <td>1</td>\n",
       "      <td>2001-10-02</td>\n",
       "      <td>1.015938</td>\n",
       "      <td>1.093750</td>\n",
       "      <td>1.008125</td>\n",
       "      <td>1.093750</td>\n",
       "      <td>0.733539</td>\n",
       "      <td>966400</td>\n",
       "    </tr>\n",
       "    <tr>\n",
       "      <th>2</th>\n",
       "      <td>2</td>\n",
       "      <td>2001-10-03</td>\n",
       "      <td>1.018750</td>\n",
       "      <td>1.120313</td>\n",
       "      <td>1.018750</td>\n",
       "      <td>1.071875</td>\n",
       "      <td>0.718868</td>\n",
       "      <td>8710400</td>\n",
       "    </tr>\n",
       "    <tr>\n",
       "      <th>3</th>\n",
       "      <td>3</td>\n",
       "      <td>2001-10-04</td>\n",
       "      <td>1.124688</td>\n",
       "      <td>1.175000</td>\n",
       "      <td>1.072188</td>\n",
       "      <td>1.140625</td>\n",
       "      <td>0.764977</td>\n",
       "      <td>5382400</td>\n",
       "    </tr>\n",
       "    <tr>\n",
       "      <th>4</th>\n",
       "      <td>4</td>\n",
       "      <td>2001-10-05</td>\n",
       "      <td>1.125000</td>\n",
       "      <td>1.218438</td>\n",
       "      <td>1.125000</td>\n",
       "      <td>1.169063</td>\n",
       "      <td>0.784049</td>\n",
       "      <td>3206400</td>\n",
       "    </tr>\n",
       "  </tbody>\n",
       "</table>\n",
       "</div>"
      ],
      "text/plain": [
       "   index       Date      Open      High       Low     Close  Adj Close  \\\n",
       "0      0 2001-10-01  1.070938  1.070938  0.990313  1.037500   0.695814   \n",
       "1      1 2001-10-02  1.015938  1.093750  1.008125  1.093750   0.733539   \n",
       "2      2 2001-10-03  1.018750  1.120313  1.018750  1.071875   0.718868   \n",
       "3      3 2001-10-04  1.124688  1.175000  1.072188  1.140625   0.764977   \n",
       "4      4 2001-10-05  1.125000  1.218438  1.125000  1.169063   0.784049   \n",
       "\n",
       "    Volume  \n",
       "0  2073600  \n",
       "1   966400  \n",
       "2  8710400  \n",
       "3  5382400  \n",
       "4  3206400  "
      ]
     },
     "execution_count": 10,
     "metadata": {},
     "output_type": "execute_result"
    }
   ],
   "source": [
    "df = df.reset_index()\n",
    "df.head()"
   ]
  },
  {
   "cell_type": "code",
   "execution_count": 11,
   "id": "a1078d8c",
   "metadata": {},
   "outputs": [],
   "source": [
    "df = df.drop(['index','Date','Adj Close'], axis=1)"
   ]
  },
  {
   "cell_type": "code",
   "execution_count": 12,
   "id": "61dd54e6",
   "metadata": {},
   "outputs": [
    {
     "data": {
      "text/html": [
       "<div>\n",
       "<style scoped>\n",
       "    .dataframe tbody tr th:only-of-type {\n",
       "        vertical-align: middle;\n",
       "    }\n",
       "\n",
       "    .dataframe tbody tr th {\n",
       "        vertical-align: top;\n",
       "    }\n",
       "\n",
       "    .dataframe thead th {\n",
       "        text-align: right;\n",
       "    }\n",
       "</style>\n",
       "<table border=\"1\" class=\"dataframe\">\n",
       "  <thead>\n",
       "    <tr style=\"text-align: right;\">\n",
       "      <th></th>\n",
       "      <th>Open</th>\n",
       "      <th>High</th>\n",
       "      <th>Low</th>\n",
       "      <th>Close</th>\n",
       "      <th>Volume</th>\n",
       "    </tr>\n",
       "  </thead>\n",
       "  <tbody>\n",
       "    <tr>\n",
       "      <th>0</th>\n",
       "      <td>1.070938</td>\n",
       "      <td>1.070938</td>\n",
       "      <td>0.990313</td>\n",
       "      <td>1.037500</td>\n",
       "      <td>2073600</td>\n",
       "    </tr>\n",
       "    <tr>\n",
       "      <th>1</th>\n",
       "      <td>1.015938</td>\n",
       "      <td>1.093750</td>\n",
       "      <td>1.008125</td>\n",
       "      <td>1.093750</td>\n",
       "      <td>966400</td>\n",
       "    </tr>\n",
       "    <tr>\n",
       "      <th>2</th>\n",
       "      <td>1.018750</td>\n",
       "      <td>1.120313</td>\n",
       "      <td>1.018750</td>\n",
       "      <td>1.071875</td>\n",
       "      <td>8710400</td>\n",
       "    </tr>\n",
       "    <tr>\n",
       "      <th>3</th>\n",
       "      <td>1.124688</td>\n",
       "      <td>1.175000</td>\n",
       "      <td>1.072188</td>\n",
       "      <td>1.140625</td>\n",
       "      <td>5382400</td>\n",
       "    </tr>\n",
       "    <tr>\n",
       "      <th>4</th>\n",
       "      <td>1.125000</td>\n",
       "      <td>1.218438</td>\n",
       "      <td>1.125000</td>\n",
       "      <td>1.169063</td>\n",
       "      <td>3206400</td>\n",
       "    </tr>\n",
       "  </tbody>\n",
       "</table>\n",
       "</div>"
      ],
      "text/plain": [
       "       Open      High       Low     Close   Volume\n",
       "0  1.070938  1.070938  0.990313  1.037500  2073600\n",
       "1  1.015938  1.093750  1.008125  1.093750   966400\n",
       "2  1.018750  1.120313  1.018750  1.071875  8710400\n",
       "3  1.124688  1.175000  1.072188  1.140625  5382400\n",
       "4  1.125000  1.218438  1.125000  1.169063  3206400"
      ]
     },
     "execution_count": 12,
     "metadata": {},
     "output_type": "execute_result"
    }
   ],
   "source": [
    "df.head()"
   ]
  },
  {
   "cell_type": "code",
   "execution_count": 13,
   "id": "d2aaba22",
   "metadata": {},
   "outputs": [
    {
     "data": {
      "text/plain": [
       "[<matplotlib.lines.Line2D at 0x2335452a390>]"
      ]
     },
     "execution_count": 13,
     "metadata": {},
     "output_type": "execute_result"
    },
    {
     "data": {
      "image/png": "[encoded data removed]",
      "text/plain": [
       "<Figure size 640x480 with 1 Axes>"
      ]
     },
     "metadata": {},
     "output_type": "display_data"
    }
   ],
   "source": [
    "plt.plot(df.Close)"
   ]
  },
  {
   "cell_type": "code",
   "execution_count": 14,
   "id": "11874a9e",
   "metadata": {},
   "outputs": [
    {
     "data": {
      "text/html": [
       "<div>\n",
       "<style scoped>\n",
       "    .dataframe tbody tr th:only-of-type {\n",
       "        vertical-align: middle;\n",
       "    }\n",
       "\n",
       "    .dataframe tbody tr th {\n",
       "        vertical-align: top;\n",
       "    }\n",
       "\n",
       "    .dataframe thead th {\n",
       "        text-align: right;\n",
       "    }\n",
       "</style>\n",
       "<table border=\"1\" class=\"dataframe\">\n",
       "  <thead>\n",
       "    <tr style=\"text-align: right;\">\n",
       "      <th></th>\n",
       "      <th>Open</th>\n",
       "      <th>High</th>\n",
       "      <th>Low</th>\n",
       "      <th>Close</th>\n",
       "      <th>Volume</th>\n",
       "    </tr>\n",
       "  </thead>\n",
       "  <tbody>\n",
       "    <tr>\n",
       "      <th>0</th>\n",
       "      <td>1.070938</td>\n",
       "      <td>1.070938</td>\n",
       "      <td>0.990313</td>\n",
       "      <td>1.037500</td>\n",
       "      <td>2073600</td>\n",
       "    </tr>\n",
       "    <tr>\n",
       "      <th>1</th>\n",
       "      <td>1.015938</td>\n",
       "      <td>1.093750</td>\n",
       "      <td>1.008125</td>\n",
       "      <td>1.093750</td>\n",
       "      <td>966400</td>\n",
       "    </tr>\n",
       "    <tr>\n",
       "      <th>2</th>\n",
       "      <td>1.018750</td>\n",
       "      <td>1.120313</td>\n",
       "      <td>1.018750</td>\n",
       "      <td>1.071875</td>\n",
       "      <td>8710400</td>\n",
       "    </tr>\n",
       "    <tr>\n",
       "      <th>3</th>\n",
       "      <td>1.124688</td>\n",
       "      <td>1.175000</td>\n",
       "      <td>1.072188</td>\n",
       "      <td>1.140625</td>\n",
       "      <td>5382400</td>\n",
       "    </tr>\n",
       "    <tr>\n",
       "      <th>4</th>\n",
       "      <td>1.125000</td>\n",
       "      <td>1.218438</td>\n",
       "      <td>1.125000</td>\n",
       "      <td>1.169063</td>\n",
       "      <td>3206400</td>\n",
       "    </tr>\n",
       "    <tr>\n",
       "      <th>...</th>\n",
       "      <td>...</td>\n",
       "      <td>...</td>\n",
       "      <td>...</td>\n",
       "      <td>...</td>\n",
       "      <td>...</td>\n",
       "    </tr>\n",
       "    <tr>\n",
       "      <th>5494</th>\n",
       "      <td>16.620001</td>\n",
       "      <td>16.750000</td>\n",
       "      <td>16.600000</td>\n",
       "      <td>16.660000</td>\n",
       "      <td>6604000</td>\n",
       "    </tr>\n",
       "    <tr>\n",
       "      <th>5495</th>\n",
       "      <td>16.719999</td>\n",
       "      <td>16.840000</td>\n",
       "      <td>16.650000</td>\n",
       "      <td>16.799999</td>\n",
       "      <td>7462200</td>\n",
       "    </tr>\n",
       "    <tr>\n",
       "      <th>5496</th>\n",
       "      <td>16.540001</td>\n",
       "      <td>16.600000</td>\n",
       "      <td>16.430000</td>\n",
       "      <td>16.520000</td>\n",
       "      <td>11896400</td>\n",
       "    </tr>\n",
       "    <tr>\n",
       "      <th>5497</th>\n",
       "      <td>16.520000</td>\n",
       "      <td>16.559999</td>\n",
       "      <td>16.440001</td>\n",
       "      <td>16.510000</td>\n",
       "      <td>10134400</td>\n",
       "    </tr>\n",
       "    <tr>\n",
       "      <th>5498</th>\n",
       "      <td>16.680000</td>\n",
       "      <td>16.879999</td>\n",
       "      <td>16.639999</td>\n",
       "      <td>16.709999</td>\n",
       "      <td>7012200</td>\n",
       "    </tr>\n",
       "  </tbody>\n",
       "</table>\n",
       "<p>5499 rows × 5 columns</p>\n",
       "</div>"
      ],
      "text/plain": [
       "           Open       High        Low      Close    Volume\n",
       "0      1.070938   1.070938   0.990313   1.037500   2073600\n",
       "1      1.015938   1.093750   1.008125   1.093750    966400\n",
       "2      1.018750   1.120313   1.018750   1.071875   8710400\n",
       "3      1.124688   1.175000   1.072188   1.140625   5382400\n",
       "4      1.125000   1.218438   1.125000   1.169063   3206400\n",
       "...         ...        ...        ...        ...       ...\n",
       "5494  16.620001  16.750000  16.600000  16.660000   6604000\n",
       "5495  16.719999  16.840000  16.650000  16.799999   7462200\n",
       "5496  16.540001  16.600000  16.430000  16.520000  11896400\n",
       "5497  16.520000  16.559999  16.440001  16.510000  10134400\n",
       "5498  16.680000  16.879999  16.639999  16.709999   7012200\n",
       "\n",
       "[5499 rows x 5 columns]"
      ]
     },
     "execution_count": 14,
     "metadata": {},
     "output_type": "execute_result"
    }
   ],
   "source": [
    "df"
   ]
  },
  {
   "cell_type": "code",
   "execution_count": 15,
   "id": "162f58cf",
   "metadata": {},
   "outputs": [],
   "source": [
    "ma100 = df.Close.rolling(100).mean()"
   ]
  },
  {
   "cell_type": "code",
   "execution_count": 16,
   "id": "ad9be936",
   "metadata": {},
   "outputs": [
    {
     "data": {
      "text/plain": [
       "0           NaN\n",
       "1           NaN\n",
       "2           NaN\n",
       "3           NaN\n",
       "4           NaN\n",
       "         ...   \n",
       "5494    16.0904\n",
       "5495    16.0768\n",
       "5496    16.0648\n",
       "5497    16.0531\n",
       "5498    16.0475\n",
       "Name: Close, Length: 5499, dtype: float64"
      ]
     },
     "execution_count": 16,
     "metadata": {},
     "output_type": "execute_result"
    }
   ],
   "source": [
    "ma100"
   ]
  },
  {
   "cell_type": "code",
   "execution_count": 17,
   "id": "4b839f7d",
   "metadata": {},
   "outputs": [
    {
     "data": {
      "text/plain": [
       "[<matplotlib.lines.Line2D at 0x2335a247250>]"
      ]
     },
     "execution_count": 17,
     "metadata": {},
     "output_type": "execute_result"
    },
    {
     "data": {
      "image/png": "[encoded data removed]",
      "text/plain": [
       "<Figure size 1200x600 with 1 Axes>"
      ]
     },
     "metadata": {},
     "output_type": "display_data"
    }
   ],
   "source": [
    "plt.figure(figsize=(12,6))\n",
    "plt.plot(df.Close,'y')\n",
    "plt.plot(ma100,'r')"
   ]
  },
  {
   "cell_type": "code",
   "execution_count": 18,
   "id": "e770ef55",
   "metadata": {},
   "outputs": [
    {
     "data": {
      "text/plain": [
       "0            NaN\n",
       "1            NaN\n",
       "2            NaN\n",
       "3            NaN\n",
       "4            NaN\n",
       "          ...   \n",
       "5494    17.39630\n",
       "5495    17.39480\n",
       "5496    17.38715\n",
       "5497    17.38065\n",
       "5498    17.37340\n",
       "Name: Close, Length: 5499, dtype: float64"
      ]
     },
     "execution_count": 18,
     "metadata": {},
     "output_type": "execute_result"
    }
   ],
   "source": [
    "ma200 = df.Close.rolling(200).mean()\n",
    "ma200"
   ]
  },
  {
   "cell_type": "code",
   "execution_count": 19,
   "id": "062b2358",
   "metadata": {},
   "outputs": [
    {
     "data": {
      "text/plain": [
       "[<matplotlib.lines.Line2D at 0x2335a2f0350>]"
      ]
     },
     "execution_count": 19,
     "metadata": {},
     "output_type": "execute_result"
    },
    {
     "data": {
      "image/png": "[encoded data removed]",
      "text/plain": [
       "<Figure size 1200x600 with 1 Axes>"
      ]
     },
     "metadata": {},
     "output_type": "display_data"
    }
   ],
   "source": [
    "plt.figure(figsize=(12,6))\n",
    "plt.plot(df.Close,'y')\n",
    "plt.plot(ma100,'r')\n",
    "plt.plot(ma200,'b')"
   ]
  },
  {
   "cell_type": "code",
   "execution_count": 20,
   "id": "8976f957",
   "metadata": {},
   "outputs": [
    {
     "data": {
      "text/plain": [
       "(5499, 5)"
      ]
     },
     "execution_count": 20,
     "metadata": {},
     "output_type": "execute_result"
    }
   ],
   "source": [
    "df.shape"
   ]
  },
  {
   "cell_type": "code",
   "execution_count": 21,
   "id": "99ddb5d1",
   "metadata": {},
   "outputs": [
    {
     "name": "stdout",
     "output_type": "stream",
     "text": [
      "(3849, 1)\n",
      "(1650, 1)\n"
     ]
    }
   ],
   "source": [
    "#spliting data into training and testing\n",
    "\n",
    "data_train = pd.DataFrame(df['Close'][0:int(len(df)*0.70)])\n",
    "data_test = pd.DataFrame(df['Close'][int(len(df)*0.70):int(len(df))])\n",
    "\n",
    "print(data_train.shape)\n",
    "print(data_test.shape)"
   ]
  },
  {
   "cell_type": "code",
   "execution_count": 22,
   "id": "cc1cbdab",
   "metadata": {},
   "outputs": [
    {
     "data": {
      "text/html": [
       "<div>\n",
       "<style scoped>\n",
       "    .dataframe tbody tr th:only-of-type {\n",
       "        vertical-align: middle;\n",
       "    }\n",
       "\n",
       "    .dataframe tbody tr th {\n",
       "        vertical-align: top;\n",
       "    }\n",
       "\n",
       "    .dataframe thead th {\n",
       "        text-align: right;\n",
       "    }\n",
       "</style>\n",
       "<table border=\"1\" class=\"dataframe\">\n",
       "  <thead>\n",
       "    <tr style=\"text-align: right;\">\n",
       "      <th></th>\n",
       "      <th>Close</th>\n",
       "    </tr>\n",
       "  </thead>\n",
       "  <tbody>\n",
       "    <tr>\n",
       "      <th>0</th>\n",
       "      <td>1.037500</td>\n",
       "    </tr>\n",
       "    <tr>\n",
       "      <th>1</th>\n",
       "      <td>1.093750</td>\n",
       "    </tr>\n",
       "    <tr>\n",
       "      <th>2</th>\n",
       "      <td>1.071875</td>\n",
       "    </tr>\n",
       "    <tr>\n",
       "      <th>3</th>\n",
       "      <td>1.140625</td>\n",
       "    </tr>\n",
       "    <tr>\n",
       "      <th>4</th>\n",
       "      <td>1.169063</td>\n",
       "    </tr>\n",
       "  </tbody>\n",
       "</table>\n",
       "</div>"
      ],
      "text/plain": [
       "      Close\n",
       "0  1.037500\n",
       "1  1.093750\n",
       "2  1.071875\n",
       "3  1.140625\n",
       "4  1.169063"
      ]
     },
     "execution_count": 22,
     "metadata": {},
     "output_type": "execute_result"
    }
   ],
   "source": [
    "data_train.head()"
   ]
  },
  {
   "cell_type": "code",
   "execution_count": 23,
   "id": "e52b46e8",
   "metadata": {},
   "outputs": [
    {
     "data": {
      "text/html": [
       "<div>\n",
       "<style scoped>\n",
       "    .dataframe tbody tr th:only-of-type {\n",
       "        vertical-align: middle;\n",
       "    }\n",
       "\n",
       "    .dataframe tbody tr th {\n",
       "        vertical-align: top;\n",
       "    }\n",
       "\n",
       "    .dataframe thead th {\n",
       "        text-align: right;\n",
       "    }\n",
       "</style>\n",
       "<table border=\"1\" class=\"dataframe\">\n",
       "  <thead>\n",
       "    <tr style=\"text-align: right;\">\n",
       "      <th></th>\n",
       "      <th>Close</th>\n",
       "    </tr>\n",
       "  </thead>\n",
       "  <tbody>\n",
       "    <tr>\n",
       "      <th>3849</th>\n",
       "      <td>7.250</td>\n",
       "    </tr>\n",
       "    <tr>\n",
       "      <th>3850</th>\n",
       "      <td>7.245</td>\n",
       "    </tr>\n",
       "    <tr>\n",
       "      <th>3851</th>\n",
       "      <td>7.220</td>\n",
       "    </tr>\n",
       "    <tr>\n",
       "      <th>3852</th>\n",
       "      <td>7.195</td>\n",
       "    </tr>\n",
       "    <tr>\n",
       "      <th>3853</th>\n",
       "      <td>7.180</td>\n",
       "    </tr>\n",
       "  </tbody>\n",
       "</table>\n",
       "</div>"
      ],
      "text/plain": [
       "      Close\n",
       "3849  7.250\n",
       "3850  7.245\n",
       "3851  7.220\n",
       "3852  7.195\n",
       "3853  7.180"
      ]
     },
     "execution_count": 23,
     "metadata": {},
     "output_type": "execute_result"
    }
   ],
   "source": [
    "data_test.head()"
   ]
  },
  {
   "cell_type": "code",
   "execution_count": 71,
   "id": "11621d41",
   "metadata": {},
   "outputs": [],
   "source": [
    "#normalization of data\n",
    "\n",
    "class MinMaxScalerLayer(tf.keras.layers.Layer):\n",
    "    def __init__(self, feature_range=(0, 1), **kwargs):\n",
    "        super(MinMaxScalerLayer, self).__init__(**kwargs)\n",
    "        self.feature_range = feature_range\n",
    "        self.data_min = None\n",
    "        self.data_max = None\n",
    "\n",
    "    def adapt(self, data):\n",
    "        data = tf.convert_to_tensor(data)\n",
    "        self.data_min = tf.math.reduce_min(data, axis=0)\n",
    "        self.data_max = tf.math.reduce_max(data, axis=0)\n",
    "\n",
    "    def call(self, inputs):\n",
    "        if self.data_min is None or self.data_max is None:\n",
    "            raise RuntimeError(\"The layer has not been adapted. Call 'adapt' before using the layer.\")\n",
    "        \n",
    "        inputs = tf.convert_to_tensor(inputs)\n",
    "        scaled_data = (inputs - self.data_min) / (self.data_max - self.data_min)\n",
    "        return self.feature_range[0] + (scaled_data * (self.feature_range[1] - self.feature_range[0]))\n",
    "\n",
    "    def get_config(self):\n",
    "        config = super(MinMaxScalerLayer, self).get_config()\n",
    "        config.update({\n",
    "            \"feature_range\": self.feature_range\n",
    "        })\n",
    "        return config\n",
    "    "
   ]
  },
  {
   "cell_type": "code",
   "execution_count": 68,
   "id": "36e22118",
   "metadata": {},
   "outputs": [],
   "source": [
    "#data_train_array = min_max_scale.fit_transform(data_train)\n",
    "#data_train_array\n",
    "\n",
    "\n",
    "minmax_scaler_layer = MinMaxScalerLayer(feature_range=(0, 1))\n",
    "minmax_scaler_layer.adapt(data_train)\n",
    "data_scaled_keras = minmax_scaler_layer(data_train)"
   ]
  },
  {
   "cell_type": "code",
   "execution_count": 35,
   "id": "8544ec14",
   "metadata": {},
   "outputs": [
    {
     "data": {
      "text/plain": [
       "TensorShape([3849, 1])"
      ]
     },
     "execution_count": 35,
     "metadata": {},
     "output_type": "execute_result"
    }
   ],
   "source": [
    "data_scaled_keras.shape"
   ]
  },
  {
   "cell_type": "code",
   "execution_count": 36,
   "id": "df2716ae",
   "metadata": {},
   "outputs": [],
   "source": [
    "x_train = []\n",
    "y_train = []\n",
    "\n",
    "for i in range(100,data_scaled_keras.shape[0]):\n",
    "    x_train.append(data_scaled_keras[i-100:i])\n",
    "    y_train.append(data_scaled_keras[i,0])\n",
    "x_train, y_train = np.array(x_train),np.array(y_train)"
   ]
  },
  {
   "cell_type": "code",
   "execution_count": 38,
   "id": "57f524c6",
   "metadata": {},
   "outputs": [
    {
     "data": {
      "text/plain": [
       "(3749, 100, 1)"
      ]
     },
     "execution_count": 38,
     "metadata": {},
     "output_type": "execute_result"
    }
   ],
   "source": [
    "x_train.shape"
   ]
  },
  {
   "cell_type": "code",
   "execution_count": 64,
   "id": "914d3197",
   "metadata": {},
   "outputs": [
    {
     "data": {
      "text/plain": [
       "array([[[0.        ],\n",
       "        [0.00627615],\n",
       "        [0.00383542],\n",
       "        ...,\n",
       "        [0.07182705],\n",
       "        [0.0740935 ],\n",
       "        [0.08211302]],\n",
       "\n",
       "       [[0.00627615],\n",
       "        [0.00383542],\n",
       "        [0.01150627],\n",
       "        ...,\n",
       "        [0.0740935 ],\n",
       "        [0.08211302],\n",
       "        [0.08716876]],\n",
       "\n",
       "       [[0.00383542],\n",
       "        [0.01150627],\n",
       "        [0.01467927],\n",
       "        ...,\n",
       "        [0.08211302],\n",
       "        [0.08716876],\n",
       "        [0.08375175]],\n",
       "\n",
       "       ...,\n",
       "\n",
       "       [[0.77238494],\n",
       "        [0.77015342],\n",
       "        [0.77126916],\n",
       "        ...,\n",
       "        [0.72217576],\n",
       "        [0.71101811],\n",
       "        [0.71882845]],\n",
       "\n",
       "       [[0.77015342],\n",
       "        [0.77126916],\n",
       "        [0.76569039],\n",
       "        ...,\n",
       "        [0.71101811],\n",
       "        [0.71882845],\n",
       "        [0.7087866 ]],\n",
       "\n",
       "       [[0.77126916],\n",
       "        [0.76569039],\n",
       "        [0.80697355],\n",
       "        ...,\n",
       "        [0.71882845],\n",
       "        [0.7087866 ],\n",
       "        [0.73165967]]])"
      ]
     },
     "execution_count": 64,
     "metadata": {},
     "output_type": "execute_result"
    }
   ],
   "source": [
    "x_train"
   ]
  },
  {
   "cell_type": "code",
   "execution_count": 30,
   "id": "4890f886",
   "metadata": {},
   "outputs": [],
   "source": [
    "#ML Model"
   ]
  },
  {
   "cell_type": "code",
   "execution_count": 39,
   "id": "303186a5",
   "metadata": {},
   "outputs": [],
   "source": [
    "from tensorflow.keras.models import Sequential\n",
    "from tensorflow.keras.layers import Dense, Dropout, LSTM"
   ]
  },
  {
   "cell_type": "code",
   "execution_count": 40,
   "id": "632375ce",
   "metadata": {},
   "outputs": [],
   "source": [
    "model = Sequential()\n",
    "\n",
    "model.add(LSTM(units=50, activation='relu', return_sequences=True, input_shape=(x_train.shape[1],1)))\n",
    "model.add(Dropout(0.2))\n",
    "\n",
    "model.add(LSTM(units=60, activation='relu', return_sequences=True))\n",
    "model.add(Dropout(0.3))\n",
    "\n",
    "model.add(LSTM(units=80, activation='relu', return_sequences=True))\n",
    "model.add(Dropout(0.4))\n",
    "\n",
    "model.add(LSTM(units=120, activation='relu'))\n",
    "model.add(Dropout(0.5))\n",
    "\n",
    "model.add(Dense(units = 1))"
   ]
  },
  {
   "cell_type": "code",
   "execution_count": 41,
   "id": "db286203",
   "metadata": {},
   "outputs": [
    {
     "name": "stdout",
     "output_type": "stream",
     "text": [
      "Model: \"sequential_1\"\n",
      "_________________________________________________________________\n",
      " Layer (type)                Output Shape              Param #   \n",
      "=================================================================\n",
      " lstm (LSTM)                 (None, 100, 50)           10400     \n",
      "                                                                 \n",
      " dropout (Dropout)           (None, 100, 50)           0         \n",
      "                                                                 \n",
      " lstm_1 (LSTM)               (None, 100, 60)           26640     \n",
      "                                                                 \n",
      " dropout_1 (Dropout)         (None, 100, 60)           0         \n",
      "                                                                 \n",
      " lstm_2 (LSTM)               (None, 100, 80)           45120     \n",
      "                                                                 \n",
      " dropout_2 (Dropout)         (None, 100, 80)           0         \n",
      "                                                                 \n",
      " lstm_3 (LSTM)               (None, 120)               96480     \n",
      "                                                                 \n",
      " dropout_3 (Dropout)         (None, 120)               0         \n",
      "                                                                 \n",
      " dense (Dense)               (None, 1)                 121       \n",
      "                                                                 \n",
      "=================================================================\n",
      "Total params: 178761 (698.29 KB)\n",
      "Trainable params: 178761 (698.29 KB)\n",
      "Non-trainable params: 0 (0.00 Byte)\n",
      "_________________________________________________________________\n"
     ]
    }
   ],
   "source": [
    "model.summary()"
   ]
  },
  {
   "cell_type": "code",
   "execution_count": 83,
   "id": "786a0fe3",
   "metadata": {},
   "outputs": [
    {
     "name": "stdout",
     "output_type": "stream",
     "text": [
      "Epoch 1/50\n",
      "118/118 [==============================] - 16s 106ms/step - loss: 0.0020\n",
      "Epoch 2/50\n",
      "118/118 [==============================] - 12s 104ms/step - loss: 0.0019\n",
      "Epoch 3/50\n",
      "118/118 [==============================] - 12s 104ms/step - loss: 0.0021\n",
      "Epoch 4/50\n",
      "118/118 [==============================] - 12s 104ms/step - loss: 0.0020\n",
      "Epoch 5/50\n",
      "118/118 [==============================] - 12s 104ms/step - loss: 0.0019\n",
      "Epoch 6/50\n",
      "118/118 [==============================] - 12s 104ms/step - loss: 0.0019\n",
      "Epoch 7/50\n",
      "118/118 [==============================] - 12s 104ms/step - loss: 0.0020\n",
      "Epoch 8/50\n",
      "118/118 [==============================] - 12s 105ms/step - loss: 0.0020\n",
      "Epoch 9/50\n",
      "118/118 [==============================] - 12s 104ms/step - loss: 0.0019\n",
      "Epoch 10/50\n",
      "118/118 [==============================] - 12s 105ms/step - loss: 0.0019\n",
      "Epoch 11/50\n",
      "118/118 [==============================] - 12s 106ms/step - loss: 0.0020\n",
      "Epoch 12/50\n",
      "118/118 [==============================] - 13s 106ms/step - loss: 0.0019\n",
      "Epoch 13/50\n",
      "118/118 [==============================] - 12s 106ms/step - loss: 0.0020\n",
      "Epoch 14/50\n",
      "118/118 [==============================] - 13s 106ms/step - loss: 0.0020\n",
      "Epoch 15/50\n",
      "118/118 [==============================] - 13s 106ms/step - loss: 0.0020\n",
      "Epoch 16/50\n",
      "118/118 [==============================] - 12s 106ms/step - loss: 0.0018\n",
      "Epoch 17/50\n",
      "118/118 [==============================] - 12s 106ms/step - loss: 0.0020\n",
      "Epoch 18/50\n",
      "118/118 [==============================] - 12s 105ms/step - loss: 0.0019\n",
      "Epoch 19/50\n",
      "118/118 [==============================] - 13s 106ms/step - loss: 0.0019\n",
      "Epoch 20/50\n",
      "118/118 [==============================] - 13s 107ms/step - loss: 0.0019\n",
      "Epoch 21/50\n",
      "118/118 [==============================] - 13s 106ms/step - loss: 0.0018\n",
      "Epoch 22/50\n",
      "118/118 [==============================] - 12s 106ms/step - loss: 0.0019\n",
      "Epoch 23/50\n",
      "118/118 [==============================] - 13s 106ms/step - loss: 0.0019\n",
      "Epoch 24/50\n",
      "118/118 [==============================] - 13s 106ms/step - loss: 0.0018\n",
      "Epoch 25/50\n",
      "118/118 [==============================] - 13s 107ms/step - loss: 0.0018\n",
      "Epoch 26/50\n",
      "118/118 [==============================] - 13s 106ms/step - loss: 0.0018\n",
      "Epoch 27/50\n",
      "118/118 [==============================] - 12s 105ms/step - loss: 0.0018\n",
      "Epoch 28/50\n",
      "118/118 [==============================] - 12s 106ms/step - loss: 0.0018\n",
      "Epoch 29/50\n",
      "118/118 [==============================] - 12s 106ms/step - loss: 0.0018\n",
      "Epoch 30/50\n",
      "118/118 [==============================] - 13s 106ms/step - loss: 0.0020\n",
      "Epoch 31/50\n",
      "118/118 [==============================] - 12s 106ms/step - loss: 0.0019\n",
      "Epoch 32/50\n",
      "118/118 [==============================] - 13s 106ms/step - loss: 0.0018\n",
      "Epoch 33/50\n",
      "118/118 [==============================] - 13s 106ms/step - loss: 0.0018\n",
      "Epoch 34/50\n",
      "118/118 [==============================] - 13s 107ms/step - loss: 0.0018\n",
      "Epoch 35/50\n",
      "118/118 [==============================] - 13s 107ms/step - loss: 0.0017\n",
      "Epoch 36/50\n",
      "118/118 [==============================] - 12s 106ms/step - loss: 0.0020\n",
      "Epoch 37/50\n",
      "118/118 [==============================] - 13s 107ms/step - loss: 0.0019\n",
      "Epoch 38/50\n",
      "118/118 [==============================] - 13s 106ms/step - loss: 0.0018\n",
      "Epoch 39/50\n",
      "118/118 [==============================] - 13s 107ms/step - loss: 0.0019\n",
      "Epoch 40/50\n",
      "118/118 [==============================] - 13s 106ms/step - loss: 0.0017\n",
      "Epoch 41/50\n",
      "118/118 [==============================] - 12s 106ms/step - loss: 0.0018\n",
      "Epoch 42/50\n",
      "118/118 [==============================] - 13s 106ms/step - loss: 0.0018\n",
      "Epoch 43/50\n",
      "118/118 [==============================] - 13s 106ms/step - loss: 0.0019\n",
      "Epoch 44/50\n",
      "118/118 [==============================] - 13s 107ms/step - loss: 0.0018\n",
      "Epoch 45/50\n",
      "118/118 [==============================] - 12s 106ms/step - loss: 0.0018\n",
      "Epoch 46/50\n",
      "118/118 [==============================] - 13s 106ms/step - loss: 0.0017\n",
      "Epoch 47/50\n",
      "118/118 [==============================] - 13s 106ms/step - loss: 0.0017\n",
      "Epoch 48/50\n",
      "118/118 [==============================] - 13s 106ms/step - loss: 0.0018\n",
      "Epoch 49/50\n",
      "118/118 [==============================] - 13s 106ms/step - loss: 0.0017\n",
      "Epoch 50/50\n",
      "118/118 [==============================] - 13s 106ms/step - loss: 0.0018\n"
     ]
    },
    {
     "data": {
      "text/plain": [
       "<keras.src.callbacks.History at 0x2336a1b3210>"
      ]
     },
     "execution_count": 83,
     "metadata": {},
     "output_type": "execute_result"
    }
   ],
   "source": [
    "model.compile(optimizer='adam', loss='mean_squared_error')\n",
    "model.fit(x_train, y_train, epochs =50)"
   ]
  },
  {
   "cell_type": "code",
   "execution_count": 84,
   "id": "ec45da22",
   "metadata": {},
   "outputs": [],
   "source": [
    "model.save('keras_model.keras')"
   ]
  },
  {
   "cell_type": "code",
   "execution_count": 85,
   "id": "a982a8d1",
   "metadata": {},
   "outputs": [
    {
     "data": {
      "text/html": [
       "<div>\n",
       "<style scoped>\n",
       "    .dataframe tbody tr th:only-of-type {\n",
       "        vertical-align: middle;\n",
       "    }\n",
       "\n",
       "    .dataframe tbody tr th {\n",
       "        vertical-align: top;\n",
       "    }\n",
       "\n",
       "    .dataframe thead th {\n",
       "        text-align: right;\n",
       "    }\n",
       "</style>\n",
       "<table border=\"1\" class=\"dataframe\">\n",
       "  <thead>\n",
       "    <tr style=\"text-align: right;\">\n",
       "      <th></th>\n",
       "      <th>Close</th>\n",
       "    </tr>\n",
       "  </thead>\n",
       "  <tbody>\n",
       "    <tr>\n",
       "      <th>3749</th>\n",
       "      <td>7.900</td>\n",
       "    </tr>\n",
       "    <tr>\n",
       "      <th>3750</th>\n",
       "      <td>8.270</td>\n",
       "    </tr>\n",
       "    <tr>\n",
       "      <th>3751</th>\n",
       "      <td>8.195</td>\n",
       "    </tr>\n",
       "    <tr>\n",
       "      <th>3752</th>\n",
       "      <td>8.025</td>\n",
       "    </tr>\n",
       "    <tr>\n",
       "      <th>3753</th>\n",
       "      <td>7.950</td>\n",
       "    </tr>\n",
       "    <tr>\n",
       "      <th>...</th>\n",
       "      <td>...</td>\n",
       "    </tr>\n",
       "    <tr>\n",
       "      <th>3844</th>\n",
       "      <td>7.410</td>\n",
       "    </tr>\n",
       "    <tr>\n",
       "      <th>3845</th>\n",
       "      <td>7.480</td>\n",
       "    </tr>\n",
       "    <tr>\n",
       "      <th>3846</th>\n",
       "      <td>7.390</td>\n",
       "    </tr>\n",
       "    <tr>\n",
       "      <th>3847</th>\n",
       "      <td>7.595</td>\n",
       "    </tr>\n",
       "    <tr>\n",
       "      <th>3848</th>\n",
       "      <td>7.625</td>\n",
       "    </tr>\n",
       "  </tbody>\n",
       "</table>\n",
       "<p>100 rows × 1 columns</p>\n",
       "</div>"
      ],
      "text/plain": [
       "      Close\n",
       "3749  7.900\n",
       "3750  8.270\n",
       "3751  8.195\n",
       "3752  8.025\n",
       "3753  7.950\n",
       "...     ...\n",
       "3844  7.410\n",
       "3845  7.480\n",
       "3846  7.390\n",
       "3847  7.595\n",
       "3848  7.625\n",
       "\n",
       "[100 rows x 1 columns]"
      ]
     },
     "execution_count": 85,
     "metadata": {},
     "output_type": "execute_result"
    }
   ],
   "source": [
    "past_100_days = data_train.tail(100)\n",
    "past_100_days"
   ]
  },
  {
   "cell_type": "code",
   "execution_count": 86,
   "id": "57bb532e",
   "metadata": {},
   "outputs": [],
   "source": [
    "final_df = pd.concat([past_100_days, data_test], ignore_index=True)"
   ]
  },
  {
   "cell_type": "code",
   "execution_count": 87,
   "id": "758bc7a4",
   "metadata": {},
   "outputs": [
    {
     "data": {
      "text/html": [
       "<div>\n",
       "<style scoped>\n",
       "    .dataframe tbody tr th:only-of-type {\n",
       "        vertical-align: middle;\n",
       "    }\n",
       "\n",
       "    .dataframe tbody tr th {\n",
       "        vertical-align: top;\n",
       "    }\n",
       "\n",
       "    .dataframe thead th {\n",
       "        text-align: right;\n",
       "    }\n",
       "</style>\n",
       "<table border=\"1\" class=\"dataframe\">\n",
       "  <thead>\n",
       "    <tr style=\"text-align: right;\">\n",
       "      <th></th>\n",
       "      <th>Close</th>\n",
       "    </tr>\n",
       "  </thead>\n",
       "  <tbody>\n",
       "    <tr>\n",
       "      <th>0</th>\n",
       "      <td>7.900</td>\n",
       "    </tr>\n",
       "    <tr>\n",
       "      <th>1</th>\n",
       "      <td>8.270</td>\n",
       "    </tr>\n",
       "    <tr>\n",
       "      <th>2</th>\n",
       "      <td>8.195</td>\n",
       "    </tr>\n",
       "    <tr>\n",
       "      <th>3</th>\n",
       "      <td>8.025</td>\n",
       "    </tr>\n",
       "    <tr>\n",
       "      <th>4</th>\n",
       "      <td>7.950</td>\n",
       "    </tr>\n",
       "  </tbody>\n",
       "</table>\n",
       "</div>"
      ],
      "text/plain": [
       "   Close\n",
       "0  7.900\n",
       "1  8.270\n",
       "2  8.195\n",
       "3  8.025\n",
       "4  7.950"
      ]
     },
     "execution_count": 87,
     "metadata": {},
     "output_type": "execute_result"
    }
   ],
   "source": [
    "final_df.head()"
   ]
  },
  {
   "cell_type": "code",
   "execution_count": 88,
   "id": "57ea4dd4",
   "metadata": {},
   "outputs": [
    {
     "data": {
      "text/plain": [
       "<tf.Tensor: shape=(1750, 1), dtype=float64, numpy=\n",
       "array([[0.05694409],\n",
       "       [0.07601135],\n",
       "       [0.07214633],\n",
       "       ...,\n",
       "       [0.5011595 ],\n",
       "       [0.50064415],\n",
       "       [0.51095072]])>"
      ]
     },
     "execution_count": 88,
     "metadata": {},
     "output_type": "execute_result"
    }
   ],
   "source": [
    "minmax_scaler_layer = MinMaxScalerLayer(feature_range=(0, 1))\n",
    "minmax_scaler_layer.adapt(final_df)\n",
    "input_data = minmax_scaler_layer(final_df)\n",
    "input_data\n",
    "\n",
    "#input_data = scaler.fit_transform(final_df)\n",
    "#input_data"
   ]
  },
  {
   "cell_type": "code",
   "execution_count": 89,
   "id": "ba5987d3",
   "metadata": {},
   "outputs": [
    {
     "data": {
      "text/plain": [
       "TensorShape([1750, 1])"
      ]
     },
     "execution_count": 89,
     "metadata": {},
     "output_type": "execute_result"
    }
   ],
   "source": [
    "input_data.shape"
   ]
  },
  {
   "cell_type": "code",
   "execution_count": 90,
   "id": "2379895b",
   "metadata": {},
   "outputs": [],
   "source": [
    "x_test =[]\n",
    "y_test =[]\n",
    "\n",
    "for i in range(100,input_data.shape[0]):\n",
    "    x_test.append(input_data[i-100:i])\n",
    "    y_test.append(input_data[i,0])\n",
    "x_test, y_test = np.array(x_test),np.array(y_test)"
   ]
  },
  {
   "cell_type": "code",
   "execution_count": 91,
   "id": "e5ea5854",
   "metadata": {},
   "outputs": [
    {
     "name": "stdout",
     "output_type": "stream",
     "text": [
      "(1650, 100, 1)\n"
     ]
    }
   ],
   "source": [
    "print(x_test.shape)"
   ]
  },
  {
   "cell_type": "code",
   "execution_count": 92,
   "id": "01664801",
   "metadata": {},
   "outputs": [
    {
     "name": "stdout",
     "output_type": "stream",
     "text": [
      "(1650,)\n"
     ]
    }
   ],
   "source": [
    "print(y_test.shape)"
   ]
  },
  {
   "cell_type": "code",
   "execution_count": 93,
   "id": "984af77d",
   "metadata": {},
   "outputs": [],
   "source": [
    "#MAking prediction"
   ]
  },
  {
   "cell_type": "code",
   "execution_count": 94,
   "id": "fd4f898a",
   "metadata": {},
   "outputs": [
    {
     "name": "stdout",
     "output_type": "stream",
     "text": [
      "52/52 [==============================] - 2s 33ms/step\n"
     ]
    }
   ],
   "source": [
    "y_predict = model.predict(x_test)"
   ]
  },
  {
   "cell_type": "code",
   "execution_count": 95,
   "id": "4b9760e4",
   "metadata": {},
   "outputs": [],
   "source": [
    "y_predict = np.array(y_predict)"
   ]
  },
  {
   "cell_type": "code",
   "execution_count": 96,
   "id": "29ca8ab9",
   "metadata": {},
   "outputs": [
    {
     "data": {
      "text/plain": [
       "(1650, 1)"
      ]
     },
     "execution_count": 96,
     "metadata": {},
     "output_type": "execute_result"
    }
   ],
   "source": [
    "y_predict.shape"
   ]
  },
  {
   "cell_type": "code",
   "execution_count": 97,
   "id": "f9d7f888",
   "metadata": {},
   "outputs": [
    {
     "data": {
      "text/plain": [
       "(1650,)"
      ]
     },
     "execution_count": 97,
     "metadata": {},
     "output_type": "execute_result"
    }
   ],
   "source": [
    "y_test.shape"
   ]
  },
  {
   "cell_type": "code",
   "execution_count": null,
   "id": "441dd9fd",
   "metadata": {},
   "outputs": [],
   "source": []
  },
  {
   "cell_type": "code",
   "execution_count": null,
   "id": "813434e3",
   "metadata": {},
   "outputs": [],
   "source": []
  },
  {
   "cell_type": "code",
   "execution_count": 98,
   "id": "d3227417",
   "metadata": {},
   "outputs": [
    {
     "data": {
      "image/png": "[encoded data removed]",
      "text/plain": [
       "<Figure size 1200x600 with 1 Axes>"
      ]
     },
     "metadata": {},
     "output_type": "display_data"
    }
   ],
   "source": [
    "plt.figure(figsize=(12,6))\n",
    "plt.plot(y_test, 'b' ,label='Original Price')\n",
    "plt.plot(y_predict, 'r' ,label='Predicted Price')\n",
    "plt.xlabel('Time')\n",
    "plt.ylabel('Price')\n",
    "plt.legend()\n",
    "plt.show()"
   ]
  },
  {
   "cell_type": "code",
   "execution_count": null,
   "id": "e1e7b6f8",
   "metadata": {},
   "outputs": [],
   "source": []
  }
 ],
 "metadata": {
  "kernelspec": {
   "display_name": "Python 3 (ipykernel)",
   "language": "python",
   "name": "python3"
  },
  "language_info": {
   "codemirror_mode": {
    "name": "ipython",
    "version": 3
   },
   "file_extension": ".py",
   "mimetype": "text/x-python",
   "name": "python",
   "nbconvert_exporter": "python",
   "pygments_lexer": "ipython3",
   "version": "3.11.3"
  }
 },
 "nbformat": 4,
 "nbformat_minor": 5
}
